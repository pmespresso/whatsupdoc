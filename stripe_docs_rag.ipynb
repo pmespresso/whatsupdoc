{
 "cells": [
  {
   "cell_type": "code",
   "execution_count": 1,
   "metadata": {},
   "outputs": [],
   "source": [
    "!pip install -Uq nest_asyncio langchain openai lxml bs4 supabase tiktoken python-dotenv"
   ]
  },
  {
   "cell_type": "code",
   "execution_count": 22,
   "metadata": {},
   "outputs": [],
   "source": [
    "from langchain.document_loaders.sitemap import SitemapLoader\n",
    "# fixes a bug with asyncio and jupyter\n",
    "import nest_asyncio\n",
    "\n",
    "nest_asyncio.apply()\n",
    "\n",
    "sitemap_loader = SitemapLoader(\n",
    "    web_path=\"https://stripe.com/sitemap/partition-2.xml\",\n",
    "    filter_urls=[\"^https:\\/\\/stripe\\.com\\/docs\"]\n",
    ")\n",
    "\n",
    "sitemap_loader.requests_per_second = 2"
   ]
  },
  {
   "cell_type": "code",
   "execution_count": 23,
   "metadata": {},
   "outputs": [
    {
     "name": "stderr",
     "output_type": "stream",
     "text": [
      "Fetching pages: 100%|##########| 1288/1288 [19:22<00:00,  1.11it/s]\n"
     ]
    }
   ],
   "source": [
    "from langchain.text_splitter import RecursiveCharacterTextSplitter\n",
    "\n",
    "text_splitter = RecursiveCharacterTextSplitter(\n",
    "    chunk_size=500,\n",
    "    chunk_overlap=100\n",
    ")\n",
    "\n",
    "data = sitemap_loader.load_and_split(text_splitter=text_splitter)"
   ]
  },
  {
   "cell_type": "code",
   "execution_count": 24,
   "metadata": {},
   "outputs": [
    {
     "data": {
      "text/plain": [
       "29997"
      ]
     },
     "execution_count": 24,
     "metadata": {},
     "output_type": "execute_result"
    }
   ],
   "source": [
    "len(data)"
   ]
  },
  {
   "cell_type": "code",
   "execution_count": 25,
   "metadata": {},
   "outputs": [],
   "source": [
    "from supabase.client import Client, create_client\n",
    "from langchain.embeddings.openai import OpenAIEmbeddings\n",
    "from langchain.vectorstores.supabase import SupabaseVectorStore\n",
    "import os\n",
    "from dotenv import load_dotenv\n",
    "\n",
    "load_dotenv()\n",
    "\n",
    "supabase_url = os.environ.get(\"SUPABASE_URL\")\n",
    "supabase_key = os.environ.get(\"SUPABASE_SERVICE_KEY\")\n",
    "supabase: Client = create_client(supabase_url, supabase_key)\n",
    "\n",
    "embeddings = OpenAIEmbeddings()"
   ]
  },
  {
   "cell_type": "code",
   "execution_count": 33,
   "metadata": {},
   "outputs": [
    {
     "name": "stderr",
     "output_type": "stream",
     "text": [
      "2023-11-05 21:21:11,683:INFO - HTTP Request: POST https://qublpyarwoevdeqqicbz.supabase.co/rest/v1/documents \"HTTP/1.1 201 Created\"\n",
      "2023-11-05 21:21:21,918:INFO - HTTP Request: POST https://qublpyarwoevdeqqicbz.supabase.co/rest/v1/documents \"HTTP/1.1 201 Created\"\n",
      "2023-11-05 21:21:31,638:INFO - HTTP Request: POST https://qublpyarwoevdeqqicbz.supabase.co/rest/v1/documents \"HTTP/1.1 201 Created\"\n",
      "2023-11-05 21:21:40,826:INFO - HTTP Request: POST https://qublpyarwoevdeqqicbz.supabase.co/rest/v1/documents \"HTTP/1.1 201 Created\"\n",
      "2023-11-05 21:21:50,043:INFO - HTTP Request: POST https://qublpyarwoevdeqqicbz.supabase.co/rest/v1/documents \"HTTP/1.1 201 Created\"\n",
      "2023-11-05 21:21:58,189:INFO - HTTP Request: POST https://qublpyarwoevdeqqicbz.supabase.co/rest/v1/documents \"HTTP/1.1 201 Created\"\n",
      "2023-11-05 21:22:05,740:INFO - HTTP Request: POST https://qublpyarwoevdeqqicbz.supabase.co/rest/v1/documents \"HTTP/1.1 201 Created\"\n",
      "2023-11-05 21:22:13,082:INFO - HTTP Request: POST https://qublpyarwoevdeqqicbz.supabase.co/rest/v1/documents \"HTTP/1.1 201 Created\"\n",
      "2023-11-05 21:22:21,919:INFO - HTTP Request: POST https://qublpyarwoevdeqqicbz.supabase.co/rest/v1/documents \"HTTP/1.1 201 Created\"\n",
      "2023-11-05 21:22:29,495:INFO - HTTP Request: POST https://qublpyarwoevdeqqicbz.supabase.co/rest/v1/documents \"HTTP/1.1 201 Created\"\n",
      "2023-11-05 21:22:37,701:INFO - HTTP Request: POST https://qublpyarwoevdeqqicbz.supabase.co/rest/v1/documents \"HTTP/1.1 201 Created\"\n",
      "2023-11-05 21:22:45,215:INFO - HTTP Request: POST https://qublpyarwoevdeqqicbz.supabase.co/rest/v1/documents \"HTTP/1.1 201 Created\"\n",
      "2023-11-05 21:22:53,664:INFO - HTTP Request: POST https://qublpyarwoevdeqqicbz.supabase.co/rest/v1/documents \"HTTP/1.1 201 Created\"\n",
      "2023-11-05 21:23:01,212:INFO - HTTP Request: POST https://qublpyarwoevdeqqicbz.supabase.co/rest/v1/documents \"HTTP/1.1 201 Created\"\n",
      "2023-11-05 21:23:10,635:INFO - HTTP Request: POST https://qublpyarwoevdeqqicbz.supabase.co/rest/v1/documents \"HTTP/1.1 201 Created\"\n",
      "2023-11-05 21:23:18,690:INFO - HTTP Request: POST https://qublpyarwoevdeqqicbz.supabase.co/rest/v1/documents \"HTTP/1.1 201 Created\"\n",
      "2023-11-05 21:23:25,958:INFO - HTTP Request: POST https://qublpyarwoevdeqqicbz.supabase.co/rest/v1/documents \"HTTP/1.1 201 Created\"\n",
      "2023-11-05 21:23:33,600:INFO - HTTP Request: POST https://qublpyarwoevdeqqicbz.supabase.co/rest/v1/documents \"HTTP/1.1 201 Created\"\n",
      "2023-11-05 21:23:41,147:INFO - HTTP Request: POST https://qublpyarwoevdeqqicbz.supabase.co/rest/v1/documents \"HTTP/1.1 201 Created\"\n",
      "2023-11-05 21:23:48,726:INFO - HTTP Request: POST https://qublpyarwoevdeqqicbz.supabase.co/rest/v1/documents \"HTTP/1.1 201 Created\"\n",
      "2023-11-05 21:23:56,335:INFO - HTTP Request: POST https://qublpyarwoevdeqqicbz.supabase.co/rest/v1/documents \"HTTP/1.1 201 Created\"\n",
      "2023-11-05 21:24:04,691:INFO - HTTP Request: POST https://qublpyarwoevdeqqicbz.supabase.co/rest/v1/documents \"HTTP/1.1 201 Created\"\n",
      "2023-11-05 21:24:12,634:INFO - HTTP Request: POST https://qublpyarwoevdeqqicbz.supabase.co/rest/v1/documents \"HTTP/1.1 201 Created\"\n",
      "2023-11-05 21:24:20,711:INFO - HTTP Request: POST https://qublpyarwoevdeqqicbz.supabase.co/rest/v1/documents \"HTTP/1.1 201 Created\"\n",
      "2023-11-05 21:24:28,487:INFO - HTTP Request: POST https://qublpyarwoevdeqqicbz.supabase.co/rest/v1/documents \"HTTP/1.1 201 Created\"\n",
      "2023-11-05 21:24:36,271:INFO - HTTP Request: POST https://qublpyarwoevdeqqicbz.supabase.co/rest/v1/documents \"HTTP/1.1 201 Created\"\n",
      "2023-11-05 21:24:44,124:INFO - HTTP Request: POST https://qublpyarwoevdeqqicbz.supabase.co/rest/v1/documents \"HTTP/1.1 201 Created\"\n",
      "2023-11-05 21:24:52,572:INFO - HTTP Request: POST https://qublpyarwoevdeqqicbz.supabase.co/rest/v1/documents \"HTTP/1.1 201 Created\"\n",
      "2023-11-05 21:24:59,309:INFO - HTTP Request: POST https://qublpyarwoevdeqqicbz.supabase.co/rest/v1/documents \"HTTP/1.1 201 Created\"\n",
      "2023-11-05 21:25:06,802:INFO - HTTP Request: POST https://qublpyarwoevdeqqicbz.supabase.co/rest/v1/documents \"HTTP/1.1 201 Created\"\n"
     ]
    }
   ],
   "source": [
    "vector_store = SupabaseVectorStore.from_documents(\n",
    "    documents=data[27000:],\n",
    "    embedding=embeddings,\n",
    "    client=supabase,\n",
    "    table_name=\"documents\",\n",
    "    query_name=\"match_documents\",\n",
    "    chunk_size=100\n",
    ")"
   ]
  },
  {
   "cell_type": "code",
   "execution_count": 34,
   "metadata": {},
   "outputs": [],
   "source": [
    "from langchain.chat_models import ChatOpenAI\n",
    "from langchain.chains import ConversationalRetrievalChain\n",
    "from langchain.retrievers import RePhraseQueryRetriever\n",
    "from langchain.memory import ConversationBufferMemory\n",
    "\n",
    "memory = ConversationBufferMemory(memory_key=\"chat_history\", return_messages=True)\n",
    "\n",
    "DEFAULT_TEMPLATE = \"\"\"You are an assistant tasked with taking a natural language \\\n",
    "query from a user and converting it into a query for a vectorstore. \\\n",
    "In this process, you strip out information that is not relevant for \\\n",
    "the retrieval task. Here is the user query: {question}\"\"\"\n",
    "\n",
    "llm = ChatOpenAI(temperature=0)\n",
    "retriever_from_llm = RePhraseQueryRetriever.from_llm(\n",
    "    retriever=vector_store.as_retriever(), llm=llm\n",
    ")\n",
    "\n",
    "qa = ConversationalRetrievalChain.from_llm(llm=llm, retriever=retriever_from_llm, memory=memory)\n"
   ]
  },
  {
   "cell_type": "code",
   "execution_count": 35,
   "metadata": {},
   "outputs": [
    {
     "name": "stderr",
     "output_type": "stream",
     "text": [
      "2023-11-05 21:28:01,761:INFO - Re-phrased question: Query for vectorstore: \"setup Stripe sdk\"\n",
      "2023-11-05 21:28:06,573:INFO - HTTP Request: POST https://qublpyarwoevdeqqicbz.supabase.co/rest/v1/rpc/match_documents?limit=4 \"HTTP/1.1 200 OK\"\n"
     ]
    },
    {
     "data": {
      "text/plain": [
       "{'question': 'How do I setup Stripe sdk?',\n",
       " 'chat_history': [HumanMessage(content='How do I setup Stripe sdk?'),\n",
       "  AIMessage(content='To set up the Stripe SDK, you will need to follow these steps:\\n\\n1. Sign up for a Stripe account at https://dashboard.stripe.com/register.\\n2. Once you have signed up and logged in, go to the Stripe Dashboard.\\n3. In the Dashboard, click on the \"Developers\" tab in the left-hand menu.\\n4. Under the \"Developers\" tab, click on \"API keys\".\\n5. You will see your API keys on this page. Take note of your \"Publishable key\" and \"Secret key\" as you will need them to configure the SDK.\\n6. Install the Stripe SDK for your preferred programming language. You can find the SDKs and their documentation at https://stripe.com/docs/libraries.\\n7. Follow the installation instructions provided in the documentation for your chosen SDK.\\n8. Once the SDK is installed, you will need to configure it with your API keys. This typically involves setting the \"Publishable key\" and \"Secret key\" in your code or configuration file.\\n9. You are now ready to start using the Stripe SDK in your application. Refer to the SDK documentation for guidance on how to integrate Stripe\\'s functionality into your code.\\n\\nNote: The specific steps may vary depending on the programming language and framework you are using. Make sure to refer to the official Stripe documentation for the SDK you are using for detailed instructions.')],\n",
       " 'answer': 'To set up the Stripe SDK, you will need to follow these steps:\\n\\n1. Sign up for a Stripe account at https://dashboard.stripe.com/register.\\n2. Once you have signed up and logged in, go to the Stripe Dashboard.\\n3. In the Dashboard, click on the \"Developers\" tab in the left-hand menu.\\n4. Under the \"Developers\" tab, click on \"API keys\".\\n5. You will see your API keys on this page. Take note of your \"Publishable key\" and \"Secret key\" as you will need them to configure the SDK.\\n6. Install the Stripe SDK for your preferred programming language. You can find the SDKs and their documentation at https://stripe.com/docs/libraries.\\n7. Follow the installation instructions provided in the documentation for your chosen SDK.\\n8. Once the SDK is installed, you will need to configure it with your API keys. This typically involves setting the \"Publishable key\" and \"Secret key\" in your code or configuration file.\\n9. You are now ready to start using the Stripe SDK in your application. Refer to the SDK documentation for guidance on how to integrate Stripe\\'s functionality into your code.\\n\\nNote: The specific steps may vary depending on the programming language and framework you are using. Make sure to refer to the official Stripe documentation for the SDK you are using for detailed instructions.'}"
      ]
     },
     "execution_count": 35,
     "metadata": {},
     "output_type": "execute_result"
    }
   ],
   "source": [
    "qa({ \"question\": \"How do I setup Stripe sdk?\"})"
   ]
  },
  {
   "cell_type": "code",
   "execution_count": null,
   "metadata": {},
   "outputs": [],
   "source": []
  }
 ],
 "metadata": {
  "kernelspec": {
   "display_name": "venv",
   "language": "python",
   "name": "python3"
  },
  "language_info": {
   "codemirror_mode": {
    "name": "ipython",
    "version": 3
   },
   "file_extension": ".py",
   "mimetype": "text/x-python",
   "name": "python",
   "nbconvert_exporter": "python",
   "pygments_lexer": "ipython3",
   "version": "3.11.6"
  }
 },
 "nbformat": 4,
 "nbformat_minor": 2
}
