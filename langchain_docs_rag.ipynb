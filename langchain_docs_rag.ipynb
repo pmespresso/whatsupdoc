{
 "cells": [
  {
   "cell_type": "code",
   "execution_count": 7,
   "metadata": {},
   "outputs": [],
   "source": [
    "!pip install -Uq nest_asyncio langchain openai lxml bs4"
   ]
  },
  {
   "cell_type": "code",
   "execution_count": 5,
   "metadata": {},
   "outputs": [],
   "source": [
    "from langchain.document_loaders.sitemap import SitemapLoader\n",
    "# fixes a bug with asyncio and jupyter\n",
    "import nest_asyncio\n",
    "\n",
    "nest_asyncio.apply()"
   ]
  },
  {
   "cell_type": "code",
   "execution_count": 13,
   "metadata": {},
   "outputs": [
    {
     "name": "stderr",
     "output_type": "stream",
     "text": [
      "Fetching pages: 100%|##########| 977/977 [01:33<00:00, 10.40it/s]\n"
     ]
    }
   ],
   "source": [
    "sitemap_loader = SitemapLoader(\n",
    "    web_path=\"https://python.langchain.com/sitemap.xml\",\n",
    "    )\n",
    "\n",
    "sitemap_loader.requests_per_second = 2\n",
    "\n",
    "# Optional: avoid `[SSL: CERTIFICATE_VERIFY_FAILED]` issue\n",
    "# sitemap_loader.requests_kwargs = {\"verify\": False}\n",
    "\n",
    "# docs = sitemap_loader.load()"
   ]
  },
  {
   "cell_type": "code",
   "execution_count": 90,
   "metadata": {},
   "outputs": [
    {
     "name": "stderr",
     "output_type": "stream",
     "text": [
      "Fetching pages: 100%|##########| 977/977 [01:25<00:00, 11.44it/s]\n"
     ]
    }
   ],
   "source": [
    "from langchain.text_splitter import RecursiveCharacterTextSplitter\n",
    "\n",
    "text_splitter = RecursiveCharacterTextSplitter(\n",
    "    chunk_size=500,\n",
    "    chunk_overlap=100\n",
    ")\n",
    "\n",
    "data = sitemap_loader.load_and_split(text_splitter=text_splitter)\n",
    "\n",
    "docs = text_splitter.split_documents(data)"
   ]
  },
  {
   "cell_type": "code",
   "execution_count": 64,
   "metadata": {},
   "outputs": [],
   "source": [
    "!pip install -Uq supabase tiktoken python-dotenv"
   ]
  },
  {
   "cell_type": "code",
   "execution_count": 66,
   "metadata": {},
   "outputs": [],
   "source": [
    "from supabase.client import Client, create_client\n",
    "from langchain.embeddings.openai import OpenAIEmbeddings\n",
    "from langchain.vectorstores.supabase import SupabaseVectorStore\n",
    "import os\n",
    "from dotenv import load_dotenv\n",
    "\n",
    "load_dotenv()\n",
    "\n",
    "supabase_url = os.environ.get(\"SUPABASE_URL\")\n",
    "supabase_key = os.environ.get(\"SUPABASE_SERVICE_KEY\")\n",
    "supabase: Client = create_client(supabase_url, supabase_key)\n",
    "\n",
    "embeddings = OpenAIEmbeddings()"
   ]
  },
  {
   "cell_type": "code",
   "execution_count": 91,
   "metadata": {},
   "outputs": [
    {
     "data": {
      "text/plain": [
       "16864"
      ]
     },
     "execution_count": 91,
     "metadata": {},
     "output_type": "execute_result"
    }
   ],
   "source": [
    "len(docs)"
   ]
  },
  {
   "cell_type": "code",
   "execution_count": 92,
   "metadata": {},
   "outputs": [
    {
     "name": "stderr",
     "output_type": "stream",
     "text": [
      "2023-11-05 18:26:10,396:INFO - HTTP Request: POST https://qublpyarwoevdeqqicbz.supabase.co/rest/v1/documents \"HTTP/1.1 201 Created\"\n",
      "2023-11-05 18:26:16,428:INFO - HTTP Request: POST https://qublpyarwoevdeqqicbz.supabase.co/rest/v1/documents \"HTTP/1.1 201 Created\"\n",
      "2023-11-05 18:26:22,972:INFO - HTTP Request: POST https://qublpyarwoevdeqqicbz.supabase.co/rest/v1/documents \"HTTP/1.1 201 Created\"\n",
      "2023-11-05 18:26:27,171:INFO - HTTP Request: POST https://qublpyarwoevdeqqicbz.supabase.co/rest/v1/documents \"HTTP/1.1 201 Created\"\n",
      "2023-11-05 18:26:33,009:INFO - HTTP Request: POST https://qublpyarwoevdeqqicbz.supabase.co/rest/v1/documents \"HTTP/1.1 201 Created\"\n",
      "2023-11-05 18:26:39,144:INFO - HTTP Request: POST https://qublpyarwoevdeqqicbz.supabase.co/rest/v1/documents \"HTTP/1.1 201 Created\"\n",
      "2023-11-05 18:26:45,403:INFO - HTTP Request: POST https://qublpyarwoevdeqqicbz.supabase.co/rest/v1/documents \"HTTP/1.1 201 Created\"\n",
      "2023-11-05 18:26:51,345:INFO - HTTP Request: POST https://qublpyarwoevdeqqicbz.supabase.co/rest/v1/documents \"HTTP/1.1 201 Created\"\n",
      "2023-11-05 18:26:55,538:INFO - HTTP Request: POST https://qublpyarwoevdeqqicbz.supabase.co/rest/v1/documents \"HTTP/1.1 201 Created\"\n",
      "2023-11-05 18:27:01,730:INFO - HTTP Request: POST https://qublpyarwoevdeqqicbz.supabase.co/rest/v1/documents \"HTTP/1.1 201 Created\"\n",
      "2023-11-05 18:27:07,847:INFO - HTTP Request: POST https://qublpyarwoevdeqqicbz.supabase.co/rest/v1/documents \"HTTP/1.1 201 Created\"\n",
      "2023-11-05 18:27:14,031:INFO - HTTP Request: POST https://qublpyarwoevdeqqicbz.supabase.co/rest/v1/documents \"HTTP/1.1 201 Created\"\n",
      "2023-11-05 18:27:20,039:INFO - HTTP Request: POST https://qublpyarwoevdeqqicbz.supabase.co/rest/v1/documents \"HTTP/1.1 201 Created\"\n",
      "2023-11-05 18:27:26,598:INFO - HTTP Request: POST https://qublpyarwoevdeqqicbz.supabase.co/rest/v1/documents \"HTTP/1.1 201 Created\"\n",
      "2023-11-05 18:27:34,425:INFO - HTTP Request: POST https://qublpyarwoevdeqqicbz.supabase.co/rest/v1/documents \"HTTP/1.1 201 Created\"\n",
      "2023-11-05 18:27:42,421:INFO - HTTP Request: POST https://qublpyarwoevdeqqicbz.supabase.co/rest/v1/documents \"HTTP/1.1 201 Created\"\n",
      "2023-11-05 18:27:48,030:INFO - HTTP Request: POST https://qublpyarwoevdeqqicbz.supabase.co/rest/v1/documents \"HTTP/1.1 201 Created\"\n",
      "2023-11-05 18:27:53,329:INFO - HTTP Request: POST https://qublpyarwoevdeqqicbz.supabase.co/rest/v1/documents \"HTTP/1.1 201 Created\"\n",
      "2023-11-05 18:27:57,898:INFO - HTTP Request: POST https://qublpyarwoevdeqqicbz.supabase.co/rest/v1/documents \"HTTP/1.1 201 Created\"\n",
      "2023-11-05 18:28:02,302:INFO - HTTP Request: POST https://qublpyarwoevdeqqicbz.supabase.co/rest/v1/documents \"HTTP/1.1 201 Created\"\n",
      "2023-11-05 18:28:08,367:INFO - HTTP Request: POST https://qublpyarwoevdeqqicbz.supabase.co/rest/v1/documents \"HTTP/1.1 201 Created\"\n",
      "2023-11-05 18:28:14,734:INFO - HTTP Request: POST https://qublpyarwoevdeqqicbz.supabase.co/rest/v1/documents \"HTTP/1.1 201 Created\"\n",
      "2023-11-05 18:28:21,172:INFO - HTTP Request: POST https://qublpyarwoevdeqqicbz.supabase.co/rest/v1/documents \"HTTP/1.1 201 Created\"\n",
      "2023-11-05 18:28:25,372:INFO - HTTP Request: POST https://qublpyarwoevdeqqicbz.supabase.co/rest/v1/documents \"HTTP/1.1 201 Created\"\n",
      "2023-11-05 18:28:29,671:INFO - HTTP Request: POST https://qublpyarwoevdeqqicbz.supabase.co/rest/v1/documents \"HTTP/1.1 201 Created\"\n",
      "2023-11-05 18:28:34,290:INFO - HTTP Request: POST https://qublpyarwoevdeqqicbz.supabase.co/rest/v1/documents \"HTTP/1.1 201 Created\"\n",
      "2023-11-05 18:28:38,334:INFO - HTTP Request: POST https://qublpyarwoevdeqqicbz.supabase.co/rest/v1/documents \"HTTP/1.1 201 Created\"\n",
      "2023-11-05 18:28:44,263:INFO - HTTP Request: POST https://qublpyarwoevdeqqicbz.supabase.co/rest/v1/documents \"HTTP/1.1 201 Created\"\n",
      "2023-11-05 18:28:50,201:INFO - HTTP Request: POST https://qublpyarwoevdeqqicbz.supabase.co/rest/v1/documents \"HTTP/1.1 201 Created\"\n",
      "2023-11-05 18:28:56,660:INFO - HTTP Request: POST https://qublpyarwoevdeqqicbz.supabase.co/rest/v1/documents \"HTTP/1.1 201 Created\"\n",
      "2023-11-05 18:29:00,632:INFO - HTTP Request: POST https://qublpyarwoevdeqqicbz.supabase.co/rest/v1/documents \"HTTP/1.1 201 Created\"\n",
      "2023-11-05 18:29:06,710:INFO - HTTP Request: POST https://qublpyarwoevdeqqicbz.supabase.co/rest/v1/documents \"HTTP/1.1 201 Created\"\n",
      "2023-11-05 18:29:11,096:INFO - HTTP Request: POST https://qublpyarwoevdeqqicbz.supabase.co/rest/v1/documents \"HTTP/1.1 201 Created\"\n",
      "2023-11-05 18:29:16,892:INFO - HTTP Request: POST https://qublpyarwoevdeqqicbz.supabase.co/rest/v1/documents \"HTTP/1.1 201 Created\"\n",
      "2023-11-05 18:29:21,156:INFO - HTTP Request: POST https://qublpyarwoevdeqqicbz.supabase.co/rest/v1/documents \"HTTP/1.1 201 Created\"\n",
      "2023-11-05 18:29:27,306:INFO - HTTP Request: POST https://qublpyarwoevdeqqicbz.supabase.co/rest/v1/documents \"HTTP/1.1 201 Created\"\n",
      "2023-11-05 18:29:33,545:INFO - HTTP Request: POST https://qublpyarwoevdeqqicbz.supabase.co/rest/v1/documents \"HTTP/1.1 201 Created\"\n",
      "2023-11-05 18:29:39,388:INFO - HTTP Request: POST https://qublpyarwoevdeqqicbz.supabase.co/rest/v1/documents \"HTTP/1.1 201 Created\"\n",
      "2023-11-05 18:29:43,835:INFO - HTTP Request: POST https://qublpyarwoevdeqqicbz.supabase.co/rest/v1/documents \"HTTP/1.1 201 Created\"\n",
      "2023-11-05 18:29:49,700:INFO - HTTP Request: POST https://qublpyarwoevdeqqicbz.supabase.co/rest/v1/documents \"HTTP/1.1 201 Created\"\n",
      "2023-11-05 18:29:55,759:INFO - HTTP Request: POST https://qublpyarwoevdeqqicbz.supabase.co/rest/v1/documents \"HTTP/1.1 201 Created\"\n",
      "2023-11-05 18:30:01,763:INFO - HTTP Request: POST https://qublpyarwoevdeqqicbz.supabase.co/rest/v1/documents \"HTTP/1.1 201 Created\"\n",
      "2023-11-05 18:30:08,002:INFO - HTTP Request: POST https://qublpyarwoevdeqqicbz.supabase.co/rest/v1/documents \"HTTP/1.1 201 Created\"\n",
      "2023-11-05 18:30:14,030:INFO - HTTP Request: POST https://qublpyarwoevdeqqicbz.supabase.co/rest/v1/documents \"HTTP/1.1 201 Created\"\n",
      "2023-11-05 18:30:20,034:INFO - HTTP Request: POST https://qublpyarwoevdeqqicbz.supabase.co/rest/v1/documents \"HTTP/1.1 201 Created\"\n",
      "2023-11-05 18:30:24,535:INFO - HTTP Request: POST https://qublpyarwoevdeqqicbz.supabase.co/rest/v1/documents \"HTTP/1.1 201 Created\"\n",
      "2023-11-05 18:30:30,781:INFO - HTTP Request: POST https://qublpyarwoevdeqqicbz.supabase.co/rest/v1/documents \"HTTP/1.1 201 Created\"\n",
      "2023-11-05 18:30:36,561:INFO - HTTP Request: POST https://qublpyarwoevdeqqicbz.supabase.co/rest/v1/documents \"HTTP/1.1 201 Created\"\n",
      "2023-11-05 18:30:42,433:INFO - HTTP Request: POST https://qublpyarwoevdeqqicbz.supabase.co/rest/v1/documents \"HTTP/1.1 201 Created\"\n",
      "2023-11-05 18:30:48,675:INFO - HTTP Request: POST https://qublpyarwoevdeqqicbz.supabase.co/rest/v1/documents \"HTTP/1.1 201 Created\"\n",
      "2023-11-05 18:30:54,555:INFO - HTTP Request: POST https://qublpyarwoevdeqqicbz.supabase.co/rest/v1/documents \"HTTP/1.1 201 Created\"\n",
      "2023-11-05 18:31:00,997:INFO - HTTP Request: POST https://qublpyarwoevdeqqicbz.supabase.co/rest/v1/documents \"HTTP/1.1 201 Created\"\n",
      "2023-11-05 18:31:06,926:INFO - HTTP Request: POST https://qublpyarwoevdeqqicbz.supabase.co/rest/v1/documents \"HTTP/1.1 201 Created\"\n",
      "2023-11-05 18:31:12,771:INFO - HTTP Request: POST https://qublpyarwoevdeqqicbz.supabase.co/rest/v1/documents \"HTTP/1.1 201 Created\"\n",
      "2023-11-05 18:31:18,608:INFO - HTTP Request: POST https://qublpyarwoevdeqqicbz.supabase.co/rest/v1/documents \"HTTP/1.1 201 Created\"\n",
      "2023-11-05 18:31:24,615:INFO - HTTP Request: POST https://qublpyarwoevdeqqicbz.supabase.co/rest/v1/documents \"HTTP/1.1 201 Created\"\n",
      "2023-11-05 18:31:29,052:INFO - HTTP Request: POST https://qublpyarwoevdeqqicbz.supabase.co/rest/v1/documents \"HTTP/1.1 201 Created\"\n",
      "2023-11-05 18:31:33,252:INFO - HTTP Request: POST https://qublpyarwoevdeqqicbz.supabase.co/rest/v1/documents \"HTTP/1.1 201 Created\"\n",
      "2023-11-05 18:31:37,246:INFO - HTTP Request: POST https://qublpyarwoevdeqqicbz.supabase.co/rest/v1/documents \"HTTP/1.1 201 Created\"\n",
      "2023-11-05 18:31:43,623:INFO - HTTP Request: POST https://qublpyarwoevdeqqicbz.supabase.co/rest/v1/documents \"HTTP/1.1 201 Created\"\n",
      "2023-11-05 18:31:49,454:INFO - HTTP Request: POST https://qublpyarwoevdeqqicbz.supabase.co/rest/v1/documents \"HTTP/1.1 201 Created\"\n",
      "2023-11-05 18:31:54,055:INFO - HTTP Request: POST https://qublpyarwoevdeqqicbz.supabase.co/rest/v1/documents \"HTTP/1.1 201 Created\"\n",
      "2023-11-05 18:31:59,876:INFO - HTTP Request: POST https://qublpyarwoevdeqqicbz.supabase.co/rest/v1/documents \"HTTP/1.1 201 Created\"\n",
      "2023-11-05 18:32:08,782:INFO - HTTP Request: POST https://qublpyarwoevdeqqicbz.supabase.co/rest/v1/documents \"HTTP/1.1 201 Created\"\n",
      "2023-11-05 18:32:15,088:INFO - HTTP Request: POST https://qublpyarwoevdeqqicbz.supabase.co/rest/v1/documents \"HTTP/1.1 201 Created\"\n",
      "2023-11-05 18:32:21,072:INFO - HTTP Request: POST https://qublpyarwoevdeqqicbz.supabase.co/rest/v1/documents \"HTTP/1.1 201 Created\"\n",
      "2023-11-05 18:32:27,214:INFO - HTTP Request: POST https://qublpyarwoevdeqqicbz.supabase.co/rest/v1/documents \"HTTP/1.1 201 Created\"\n",
      "2023-11-05 18:32:31,656:INFO - HTTP Request: POST https://qublpyarwoevdeqqicbz.supabase.co/rest/v1/documents \"HTTP/1.1 201 Created\"\n",
      "2023-11-05 18:32:36,545:INFO - HTTP Request: POST https://qublpyarwoevdeqqicbz.supabase.co/rest/v1/documents \"HTTP/1.1 201 Created\"\n",
      "2023-11-05 18:32:45,759:INFO - HTTP Request: POST https://qublpyarwoevdeqqicbz.supabase.co/rest/v1/documents \"HTTP/1.1 201 Created\"\n",
      "2023-11-05 18:32:52,105:INFO - HTTP Request: POST https://qublpyarwoevdeqqicbz.supabase.co/rest/v1/documents \"HTTP/1.1 201 Created\"\n",
      "2023-11-05 18:32:58,571:INFO - HTTP Request: POST https://qublpyarwoevdeqqicbz.supabase.co/rest/v1/documents \"HTTP/1.1 201 Created\"\n",
      "2023-11-05 18:33:04,894:INFO - HTTP Request: POST https://qublpyarwoevdeqqicbz.supabase.co/rest/v1/documents \"HTTP/1.1 201 Created\"\n",
      "2023-11-05 18:33:09,295:INFO - HTTP Request: POST https://qublpyarwoevdeqqicbz.supabase.co/rest/v1/documents \"HTTP/1.1 201 Created\"\n",
      "2023-11-05 18:33:13,758:INFO - HTTP Request: POST https://qublpyarwoevdeqqicbz.supabase.co/rest/v1/documents \"HTTP/1.1 201 Created\"\n",
      "2023-11-05 18:33:20,780:INFO - HTTP Request: POST https://qublpyarwoevdeqqicbz.supabase.co/rest/v1/documents \"HTTP/1.1 201 Created\"\n",
      "2023-11-05 18:33:27,361:INFO - HTTP Request: POST https://qublpyarwoevdeqqicbz.supabase.co/rest/v1/documents \"HTTP/1.1 201 Created\"\n",
      "2023-11-05 18:33:33,069:INFO - HTTP Request: POST https://qublpyarwoevdeqqicbz.supabase.co/rest/v1/documents \"HTTP/1.1 201 Created\"\n",
      "2023-11-05 18:33:39,271:INFO - HTTP Request: POST https://qublpyarwoevdeqqicbz.supabase.co/rest/v1/documents \"HTTP/1.1 201 Created\"\n",
      "2023-11-05 18:33:46,797:INFO - HTTP Request: POST https://qublpyarwoevdeqqicbz.supabase.co/rest/v1/documents \"HTTP/1.1 201 Created\"\n",
      "2023-11-05 18:33:51,878:INFO - HTTP Request: POST https://qublpyarwoevdeqqicbz.supabase.co/rest/v1/documents \"HTTP/1.1 201 Created\"\n",
      "2023-11-05 18:33:58,282:INFO - HTTP Request: POST https://qublpyarwoevdeqqicbz.supabase.co/rest/v1/documents \"HTTP/1.1 201 Created\"\n",
      "2023-11-05 18:34:05,300:INFO - HTTP Request: POST https://qublpyarwoevdeqqicbz.supabase.co/rest/v1/documents \"HTTP/1.1 201 Created\"\n",
      "2023-11-05 18:34:11,996:INFO - HTTP Request: POST https://qublpyarwoevdeqqicbz.supabase.co/rest/v1/documents \"HTTP/1.1 201 Created\"\n",
      "2023-11-05 18:34:18,156:INFO - HTTP Request: POST https://qublpyarwoevdeqqicbz.supabase.co/rest/v1/documents \"HTTP/1.1 201 Created\"\n",
      "2023-11-05 18:34:23,139:INFO - HTTP Request: POST https://qublpyarwoevdeqqicbz.supabase.co/rest/v1/documents \"HTTP/1.1 201 Created\"\n",
      "2023-11-05 18:34:28,470:INFO - HTTP Request: POST https://qublpyarwoevdeqqicbz.supabase.co/rest/v1/documents \"HTTP/1.1 201 Created\"\n",
      "2023-11-05 18:34:36,233:INFO - HTTP Request: POST https://qublpyarwoevdeqqicbz.supabase.co/rest/v1/documents \"HTTP/1.1 201 Created\"\n",
      "2023-11-05 18:34:42,483:INFO - HTTP Request: POST https://qublpyarwoevdeqqicbz.supabase.co/rest/v1/documents \"HTTP/1.1 201 Created\"\n",
      "2023-11-05 18:34:46,268:INFO - HTTP Request: POST https://qublpyarwoevdeqqicbz.supabase.co/rest/v1/documents \"HTTP/1.1 201 Created\"\n",
      "2023-11-05 18:34:49,872:INFO - HTTP Request: POST https://qublpyarwoevdeqqicbz.supabase.co/rest/v1/documents \"HTTP/1.1 201 Created\"\n",
      "2023-11-05 18:34:55,825:INFO - HTTP Request: POST https://qublpyarwoevdeqqicbz.supabase.co/rest/v1/documents \"HTTP/1.1 201 Created\"\n",
      "2023-11-05 18:35:01,638:INFO - HTTP Request: POST https://qublpyarwoevdeqqicbz.supabase.co/rest/v1/documents \"HTTP/1.1 201 Created\"\n",
      "2023-11-05 18:35:07,658:INFO - HTTP Request: POST https://qublpyarwoevdeqqicbz.supabase.co/rest/v1/documents \"HTTP/1.1 201 Created\"\n",
      "2023-11-05 18:35:16,348:INFO - HTTP Request: POST https://qublpyarwoevdeqqicbz.supabase.co/rest/v1/documents \"HTTP/1.1 201 Created\"\n",
      "2023-11-05 18:35:20,540:INFO - HTTP Request: POST https://qublpyarwoevdeqqicbz.supabase.co/rest/v1/documents \"HTTP/1.1 201 Created\"\n",
      "2023-11-05 18:35:24,872:INFO - HTTP Request: POST https://qublpyarwoevdeqqicbz.supabase.co/rest/v1/documents \"HTTP/1.1 201 Created\"\n",
      "2023-11-05 18:35:31,290:INFO - HTTP Request: POST https://qublpyarwoevdeqqicbz.supabase.co/rest/v1/documents \"HTTP/1.1 201 Created\"\n",
      "2023-11-05 18:35:35,430:INFO - HTTP Request: POST https://qublpyarwoevdeqqicbz.supabase.co/rest/v1/documents \"HTTP/1.1 201 Created\"\n"
     ]
    }
   ],
   "source": [
    "vector_store = SupabaseVectorStore.from_documents(\n",
    "    documents=docs[7000:],\n",
    "    embedding=embeddings,\n",
    "    client=supabase,\n",
    "    table_name=\"documents\",\n",
    "    query_name=\"match_documents\",\n",
    "    chunk_size=100\n",
    ")"
   ]
  },
  {
   "cell_type": "code",
   "execution_count": 93,
   "metadata": {},
   "outputs": [],
   "source": [
    "from langchain.chat_models import ChatOpenAI\n",
    "from langchain.chains import ConversationalRetrievalChain\n",
    "from langchain.retrievers import RePhraseQueryRetriever\n",
    "from langchain.memory import ConversationBufferMemory\n",
    "from langchain.chains import create_citation_fuzzy_match_chain\n",
    "\n",
    "\n",
    "memory = ConversationBufferMemory(memory_key=\"chat_history\", return_messages=True)\n",
    "\n",
    "DEFAULT_TEMPLATE = \"\"\"You are an assistant tasked with taking a natural language \\\n",
    "query from a user and converting it into a query for a vectorstore. \\\n",
    "In this process, you strip out information that is not relevant for \\\n",
    "the retrieval task. Here is the user query: {question}\"\"\"\n",
    "\n",
    "llm = ChatOpenAI(temperature=0)\n",
    "retriever_from_llm = RePhraseQueryRetriever.from_llm(\n",
    "    retriever=vector_store.as_retriever(), llm=llm\n",
    ")\n",
    "# docs = retriever_from_llm.get_relevant_documents(\"How do I load documents from Hacker News?\")\n",
    "\n",
    "# qa = ConversationalRetrievalChain.from_llm(OpenAI(temperature=0), vectorstore.as_retriever(), memory=memory)\n",
    "\n",
    "# chain = create_citation_fuzzy_match_chain(llm)\n",
    "\n",
    "qa = ConversationalRetrievalChain.from_llm(llm=llm, retriever=retriever_from_llm, memory=memory)\n"
   ]
  },
  {
   "cell_type": "code",
   "execution_count": 1,
   "metadata": {},
   "outputs": [
    {
     "ename": "NameError",
     "evalue": "name 'qa' is not defined",
     "output_type": "error",
     "traceback": [
      "\u001b[0;31m---------------------------------------------------------------------------\u001b[0m",
      "\u001b[0;31mNameError\u001b[0m                                 Traceback (most recent call last)",
      "\u001b[1;32m/Users/yjkim/Developer/whatsupdocc/langchain_docs_rag.ipynb Cell 10\u001b[0m line \u001b[0;36m1\n\u001b[0;32m----> <a href='vscode-notebook-cell:/Users/yjkim/Developer/whatsupdocc/langchain_docs_rag.ipynb#X25sZmlsZQ%3D%3D?line=0'>1</a>\u001b[0m qa({ \u001b[39m\"\u001b[39m\u001b[39mquestion\u001b[39m\u001b[39m\"\u001b[39m: \u001b[39m\"\u001b[39m\u001b[39mHow do I get a Retrieval chain to cite its sources?\u001b[39m\u001b[39m\"\u001b[39m})\n",
      "\u001b[0;31mNameError\u001b[0m: name 'qa' is not defined"
     ]
    }
   ],
   "source": [
    "qa({ \"question\": \"How do I get a Retrieval chain to cite its sources?\"})"
   ]
  },
  {
   "cell_type": "code",
   "execution_count": null,
   "metadata": {},
   "outputs": [],
   "source": []
  }
 ],
 "metadata": {
  "kernelspec": {
   "display_name": "venv",
   "language": "python",
   "name": "python3"
  },
  "language_info": {
   "codemirror_mode": {
    "name": "ipython",
    "version": 3
   },
   "file_extension": ".py",
   "mimetype": "text/x-python",
   "name": "python",
   "nbconvert_exporter": "python",
   "pygments_lexer": "ipython3",
   "version": "3.11.6"
  }
 },
 "nbformat": 4,
 "nbformat_minor": 2
}
