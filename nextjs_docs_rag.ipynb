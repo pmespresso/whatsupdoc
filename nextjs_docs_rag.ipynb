{
 "cells": [
  {
   "cell_type": "code",
   "execution_count": 1,
   "metadata": {},
   "outputs": [],
   "source": [
    "SITE_MAP_URL = \"https://nextjs.org/sitemap.xml\""
   ]
  },
  {
   "cell_type": "code",
   "execution_count": 2,
   "metadata": {},
   "outputs": [
    {
     "name": "stdout",
     "output_type": "stream",
     "text": [
      "zsh:1: /Users/yjkim/Developer/WhatsUpDoc/whatsupdocc/venv/bin/pip: bad interpreter: /Users/yjkim/Developer/whatsupdocc/venv/bin/python3.11: no such file or directory\n"
     ]
    }
   ],
   "source": [
    "!pip install -Uq pip"
   ]
  },
  {
   "cell_type": "code",
   "execution_count": 3,
   "metadata": {},
   "outputs": [
    {
     "name": "stdout",
     "output_type": "stream",
     "text": [
      "zsh:1: /Users/yjkim/Developer/WhatsUpDoc/whatsupdocc/venv/bin/pip: bad interpreter: /Users/yjkim/Developer/whatsupdocc/venv/bin/python3.11: no such file or directory\n"
     ]
    }
   ],
   "source": [
    "!pip install -q -r requirements.txt"
   ]
  },
  {
   "cell_type": "code",
   "execution_count": 4,
   "metadata": {},
   "outputs": [],
   "source": [
    "from langchain.document_loaders.sitemap import SitemapLoader\n",
    "# fixes a bug with asyncio and jupyter\n",
    "import nest_asyncio\n",
    "\n",
    "nest_asyncio.apply()\n",
    "\n",
    "sitemap_loader = SitemapLoader(\n",
    "    web_path=SITE_MAP_URL,\n",
    "    filter_urls=[\"^https:\\/\\/nextjs\\.org\\/docs\"]\n",
    ")\n",
    "\n",
    "sitemap_loader.requests_per_second = 2"
   ]
  },
  {
   "cell_type": "code",
   "execution_count": 5,
   "metadata": {},
   "outputs": [
    {
     "name": "stderr",
     "output_type": "stream",
     "text": [
      "Fetching pages: 100%|##########| 307/307 [01:44<00:00,  2.94it/s]\n"
     ]
    }
   ],
   "source": [
    "from langchain.text_splitter import RecursiveCharacterTextSplitter\n",
    "\n",
    "text_splitter = RecursiveCharacterTextSplitter(\n",
    "    chunk_size=500,\n",
    "    chunk_overlap=100\n",
    ")\n",
    "\n",
    "data = sitemap_loader.load_and_split(text_splitter=text_splitter)"
   ]
  },
  {
   "cell_type": "code",
   "execution_count": 11,
   "metadata": {},
   "outputs": [
    {
     "data": {
      "text/plain": [
       "Document(page_content='Docs | Next.jsSkip to contentSearch documentation...Search...⌘KShowcaseDocsBlogAnalyticsTemplatesEnterpriseSearch documentation...Search...⌘KFeedbackLearn MenuUsing App RouterFeatures available in /appGetting StartedInstallationProject StructureBuilding Your ApplicationRoutingDefining RoutesPages and LayoutsLinking and NavigatingRoute GroupsDynamic RoutesLoading UI and StreamingError HandlingParallel RoutesIntercepting RoutesRoute HandlersMiddlewareProject OrganizationInternationalizationData', metadata={'source': 'https://nextjs.org/docs', 'loc': 'https://nextjs.org/docs', 'lastmod': '2023-10-27T22:03:43.309Z'})"
      ]
     },
     "execution_count": 11,
     "metadata": {},
     "output_type": "execute_result"
    }
   ],
   "source": [
    "data[0]"
   ]
  },
  {
   "cell_type": "code",
   "execution_count": 6,
   "metadata": {},
   "outputs": [
    {
     "data": {
      "text/plain": [
       "7781"
      ]
     },
     "execution_count": 6,
     "metadata": {},
     "output_type": "execute_result"
    }
   ],
   "source": [
    "len(data)"
   ]
  },
  {
   "cell_type": "code",
   "execution_count": 7,
   "metadata": {},
   "outputs": [
    {
     "name": "stdout",
     "output_type": "stream",
     "text": [
      "zsh:1: /Users/yjkim/Developer/WhatsUpDoc/whatsupdocc/venv/bin/pip: bad interpreter: /Users/yjkim/Developer/whatsupdocc/venv/bin/python3.11: no such file or directory\n"
     ]
    }
   ],
   "source": [
    "!pip install -q openai==0.28.1"
   ]
  },
  {
   "cell_type": "code",
   "execution_count": 12,
   "metadata": {},
   "outputs": [],
   "source": [
    "from supabase.client import Client, create_client\n",
    "from langchain.embeddings.openai import OpenAIEmbeddings\n",
    "from langchain.vectorstores.supabase import SupabaseVectorStore\n",
    "import os\n",
    "from dotenv import load_dotenv\n",
    "\n",
    "load_dotenv()\n",
    "\n",
    "supabase_url = os.environ.get(\"SUPABASE_URL\")\n",
    "supabase_key = os.environ.get(\"SUPABASE_ANON_KEY\")\n",
    "supabase: Client = create_client(supabase_url, supabase_key)\n",
    "\n",
    "embeddings = OpenAIEmbeddings(openai_api_key=os.environ.get(\"OPENAI_API_KEY\"))"
   ]
  },
  {
   "cell_type": "code",
   "execution_count": 63,
   "metadata": {},
   "outputs": [
    {
     "name": "stderr",
     "output_type": "stream",
     "text": [
      "2023-11-17 16:48:04,286:INFO - HTTP Request: POST https://qublpyarwoevdeqqicbz.supabase.co/rest/v1/nextjs_documents \"HTTP/1.1 201 Created\"\n",
      "2023-11-17 16:48:11,001:INFO - HTTP Request: POST https://qublpyarwoevdeqqicbz.supabase.co/rest/v1/nextjs_documents \"HTTP/1.1 201 Created\"\n",
      "2023-11-17 16:48:16,864:INFO - HTTP Request: POST https://qublpyarwoevdeqqicbz.supabase.co/rest/v1/nextjs_documents \"HTTP/1.1 201 Created\"\n",
      "2023-11-17 16:48:23,381:INFO - HTTP Request: POST https://qublpyarwoevdeqqicbz.supabase.co/rest/v1/nextjs_documents \"HTTP/1.1 201 Created\"\n",
      "2023-11-17 16:48:30,006:INFO - HTTP Request: POST https://qublpyarwoevdeqqicbz.supabase.co/rest/v1/nextjs_documents \"HTTP/1.1 201 Created\"\n",
      "2023-11-17 16:48:35,371:INFO - HTTP Request: POST https://qublpyarwoevdeqqicbz.supabase.co/rest/v1/nextjs_documents \"HTTP/1.1 201 Created\"\n",
      "2023-11-17 16:48:40,477:INFO - HTTP Request: POST https://qublpyarwoevdeqqicbz.supabase.co/rest/v1/nextjs_documents \"HTTP/1.1 201 Created\"\n",
      "2023-11-17 16:48:43,971:INFO - HTTP Request: POST https://qublpyarwoevdeqqicbz.supabase.co/rest/v1/nextjs_documents \"HTTP/1.1 201 Created\"\n"
     ]
    }
   ],
   "source": [
    "vector_store = SupabaseVectorStore.from_documents(\n",
    "    documents=data[6000:6400],\n",
    "    embedding=embeddings,\n",
    "    client=supabase,\n",
    "    table_name=\"nextjs_documents\",\n",
    "    query_name=\"nextjs_match_documents\",\n",
    "    chunk_size=50\n",
    ")"
   ]
  },
  {
   "cell_type": "code",
   "execution_count": null,
   "metadata": {},
   "outputs": [],
   "source": []
  }
 ],
 "metadata": {
  "kernelspec": {
   "display_name": "venv",
   "language": "python",
   "name": "python3"
  },
  "language_info": {
   "codemirror_mode": {
    "name": "ipython",
    "version": 3
   },
   "file_extension": ".py",
   "mimetype": "text/x-python",
   "name": "python",
   "nbconvert_exporter": "python",
   "pygments_lexer": "ipython3",
   "version": "3.11.6"
  }
 },
 "nbformat": 4,
 "nbformat_minor": 2
}
