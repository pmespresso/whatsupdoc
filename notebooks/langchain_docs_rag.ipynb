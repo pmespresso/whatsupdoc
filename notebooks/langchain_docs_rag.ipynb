{
 "cells": [
  {
   "cell_type": "code",
   "execution_count": 1,
   "metadata": {},
   "outputs": [
    {
     "name": "stdout",
     "output_type": "stream",
     "text": [
      "zsh:1: /Users/yjkim/Developer/WhatsUpDoc/rag-notebooks/venv/bin/pip: bad interpreter: /Users/yjkim/Developer/whatsupdocc/venv/bin/python3.11: no such file or directory\n",
      "\n",
      "\u001b[1m[\u001b[0m\u001b[34;49mnotice\u001b[0m\u001b[1;39;49m]\u001b[0m\u001b[39;49m A new release of pip is available: \u001b[0m\u001b[31;49m23.3.2\u001b[0m\u001b[39;49m -> \u001b[0m\u001b[32;49m24.0\u001b[0m\n",
      "\u001b[1m[\u001b[0m\u001b[34;49mnotice\u001b[0m\u001b[1;39;49m]\u001b[0m\u001b[39;49m To update, run: \u001b[0m\u001b[32;49mpython3.11 -m pip install --upgrade pip\u001b[0m\n"
     ]
    }
   ],
   "source": [
    "!pip install -Uq nest_asyncio langchain openai lxml bs4"
   ]
  },
  {
   "cell_type": "code",
   "execution_count": 2,
   "metadata": {},
   "outputs": [],
   "source": [
    "from langchain.document_loaders.sitemap import SitemapLoader\n",
    "# fixes a bug with asyncio and jupyter\n",
    "import nest_asyncio\n",
    "\n",
    "nest_asyncio.apply()"
   ]
  },
  {
   "cell_type": "code",
   "execution_count": 13,
   "metadata": {},
   "outputs": [],
   "source": [
    "# sitemap_loader = SitemapLoader(\n",
    "#     web_path=\"https://python.langchain.com/sitemap.xml\",\n",
    "#     )\n",
    "\n",
    "# should skip https://js.langchain.com/docs/modules/agents/tools/dynamic\n",
    "sitemap_loader = SitemapLoader(\n",
    "    web_path=\"./sitemap.xml\",\n",
    "    is_local=True\n",
    ")\n",
    "\n",
    "sitemap_loader.requests_per_second = 2\n",
    "\n",
    "# Optional: avoid `[SSL: CERTIFICATE_VERIFY_FAILED]` issue\n",
    "# sitemap_loader.requests_kwargs = {\"verify\": False}\n",
    "\n",
    "# docs = sitemap_loader.load()"
   ]
  },
  {
   "cell_type": "code",
   "execution_count": 15,
   "metadata": {},
   "outputs": [
    {
     "name": "stderr",
     "output_type": "stream",
     "text": [
      "Fetching pages: 100%|##########| 477/477 [00:42<00:00, 11.18it/s]\n",
      "Fetching pages:  64%|######4   | 307/478 [08:19<04:38,  1.63s/it]\n"
     ]
    }
   ],
   "source": [
    "from langchain.text_splitter import RecursiveCharacterTextSplitter\n",
    "\n",
    "text_splitter = RecursiveCharacterTextSplitter(\n",
    "    chunk_size=500,\n",
    "    chunk_overlap=100\n",
    ")\n",
    "\n",
    "data = sitemap_loader.load_and_split(text_splitter=text_splitter)\n",
    "\n",
    "docs = text_splitter.split_documents(data)"
   ]
  },
  {
   "cell_type": "code",
   "execution_count": 16,
   "metadata": {},
   "outputs": [
    {
     "name": "stdout",
     "output_type": "stream",
     "text": [
      "zsh:1: /Users/yjkim/Developer/WhatsUpDoc/rag-notebooks/venv/bin/pip: bad interpreter: /Users/yjkim/Developer/whatsupdocc/venv/bin/python3.11: no such file or directory\n",
      "\n",
      "\u001b[1m[\u001b[0m\u001b[34;49mnotice\u001b[0m\u001b[1;39;49m]\u001b[0m\u001b[39;49m A new release of pip is available: \u001b[0m\u001b[31;49m23.3.2\u001b[0m\u001b[39;49m -> \u001b[0m\u001b[32;49m24.0\u001b[0m\n",
      "\u001b[1m[\u001b[0m\u001b[34;49mnotice\u001b[0m\u001b[1;39;49m]\u001b[0m\u001b[39;49m To update, run: \u001b[0m\u001b[32;49mpython3.11 -m pip install --upgrade pip\u001b[0m\n"
     ]
    }
   ],
   "source": [
    "!pip install -Uq supabase tiktoken python-dotenv"
   ]
  },
  {
   "cell_type": "code",
   "execution_count": 17,
   "metadata": {},
   "outputs": [],
   "source": [
    "from supabase.client import Client, create_client\n",
    "from langchain.embeddings.openai import OpenAIEmbeddings\n",
    "from langchain.vectorstores.supabase import SupabaseVectorStore\n",
    "import os\n",
    "from dotenv import load_dotenv\n",
    "\n",
    "load_dotenv()\n",
    "\n",
    "supabase_url = os.environ.get(\"SUPABASE_URL\")\n",
    "supabase_key = os.environ.get(\"SUPABASE_SERVICE_KEY\")\n",
    "supabase: Client = create_client(supabase_url, supabase_key)\n",
    "\n",
    "embeddings = OpenAIEmbeddings()"
   ]
  },
  {
   "cell_type": "code",
   "execution_count": 18,
   "metadata": {},
   "outputs": [
    {
     "data": {
      "text/plain": [
       "7637"
      ]
     },
     "execution_count": 18,
     "metadata": {},
     "output_type": "execute_result"
    }
   ],
   "source": [
    "len(docs)"
   ]
  },
  {
   "cell_type": "code",
   "execution_count": 25,
   "metadata": {},
   "outputs": [
    {
     "name": "stderr",
     "output_type": "stream",
     "text": [
      "2024-02-04 13:32:20,346:INFO - HTTP Request: POST https://qublpyarwoevdeqqicbz.supabase.co/rest/v1/langchainjs_documents \"HTTP/1.1 201 Created\"\n",
      "2024-02-04 13:32:25,642:INFO - HTTP Request: POST https://qublpyarwoevdeqqicbz.supabase.co/rest/v1/langchainjs_documents \"HTTP/1.1 201 Created\"\n",
      "2024-02-04 13:32:30,846:INFO - HTTP Request: POST https://qublpyarwoevdeqqicbz.supabase.co/rest/v1/langchainjs_documents \"HTTP/1.1 201 Created\"\n",
      "2024-02-04 13:32:36,904:INFO - HTTP Request: POST https://qublpyarwoevdeqqicbz.supabase.co/rest/v1/langchainjs_documents \"HTTP/1.1 201 Created\"\n",
      "2024-02-04 13:32:42,037:INFO - HTTP Request: POST https://qublpyarwoevdeqqicbz.supabase.co/rest/v1/langchainjs_documents \"HTTP/1.1 201 Created\"\n",
      "2024-02-04 13:32:46,292:INFO - HTTP Request: POST https://qublpyarwoevdeqqicbz.supabase.co/rest/v1/langchainjs_documents \"HTTP/1.1 201 Created\"\n",
      "2024-02-04 13:32:51,524:INFO - HTTP Request: POST https://qublpyarwoevdeqqicbz.supabase.co/rest/v1/langchainjs_documents \"HTTP/1.1 201 Created\"\n",
      "2024-02-04 13:32:56,777:INFO - HTTP Request: POST https://qublpyarwoevdeqqicbz.supabase.co/rest/v1/langchainjs_documents \"HTTP/1.1 201 Created\"\n",
      "2024-02-04 13:33:00,662:INFO - HTTP Request: POST https://qublpyarwoevdeqqicbz.supabase.co/rest/v1/langchainjs_documents \"HTTP/1.1 201 Created\"\n",
      "2024-02-04 13:33:06,197:INFO - HTTP Request: POST https://qublpyarwoevdeqqicbz.supabase.co/rest/v1/langchainjs_documents \"HTTP/1.1 201 Created\"\n",
      "2024-02-04 13:33:09,741:INFO - HTTP Request: POST https://qublpyarwoevdeqqicbz.supabase.co/rest/v1/langchainjs_documents \"HTTP/1.1 201 Created\"\n",
      "2024-02-04 13:33:15,100:INFO - HTTP Request: POST https://qublpyarwoevdeqqicbz.supabase.co/rest/v1/langchainjs_documents \"HTTP/1.1 201 Created\"\n",
      "2024-02-04 13:33:20,225:INFO - HTTP Request: POST https://qublpyarwoevdeqqicbz.supabase.co/rest/v1/langchainjs_documents \"HTTP/1.1 201 Created\"\n",
      "2024-02-04 13:33:25,341:INFO - HTTP Request: POST https://qublpyarwoevdeqqicbz.supabase.co/rest/v1/langchainjs_documents \"HTTP/1.1 201 Created\"\n",
      "2024-02-04 13:33:28,965:INFO - HTTP Request: POST https://qublpyarwoevdeqqicbz.supabase.co/rest/v1/langchainjs_documents \"HTTP/1.1 201 Created\"\n",
      "2024-02-04 13:33:34,214:INFO - HTTP Request: POST https://qublpyarwoevdeqqicbz.supabase.co/rest/v1/langchainjs_documents \"HTTP/1.1 201 Created\"\n",
      "2024-02-04 13:33:39,348:INFO - HTTP Request: POST https://qublpyarwoevdeqqicbz.supabase.co/rest/v1/langchainjs_documents \"HTTP/1.1 201 Created\"\n",
      "2024-02-04 13:33:43,055:INFO - HTTP Request: POST https://qublpyarwoevdeqqicbz.supabase.co/rest/v1/langchainjs_documents \"HTTP/1.1 201 Created\"\n",
      "2024-02-04 13:33:48,278:INFO - HTTP Request: POST https://qublpyarwoevdeqqicbz.supabase.co/rest/v1/langchainjs_documents \"HTTP/1.1 201 Created\"\n",
      "2024-02-04 13:33:53,499:INFO - HTTP Request: POST https://qublpyarwoevdeqqicbz.supabase.co/rest/v1/langchainjs_documents \"HTTP/1.1 201 Created\"\n",
      "2024-02-04 13:33:58,687:INFO - HTTP Request: POST https://qublpyarwoevdeqqicbz.supabase.co/rest/v1/langchainjs_documents \"HTTP/1.1 201 Created\"\n",
      "2024-02-04 13:34:04,150:INFO - HTTP Request: POST https://qublpyarwoevdeqqicbz.supabase.co/rest/v1/langchainjs_documents \"HTTP/1.1 201 Created\"\n",
      "2024-02-04 13:34:09,578:INFO - HTTP Request: POST https://qublpyarwoevdeqqicbz.supabase.co/rest/v1/langchainjs_documents \"HTTP/1.1 201 Created\"\n",
      "2024-02-04 13:34:13,298:INFO - HTTP Request: POST https://qublpyarwoevdeqqicbz.supabase.co/rest/v1/langchainjs_documents \"HTTP/1.1 201 Created\"\n",
      "2024-02-04 13:34:18,655:INFO - HTTP Request: POST https://qublpyarwoevdeqqicbz.supabase.co/rest/v1/langchainjs_documents \"HTTP/1.1 201 Created\"\n",
      "2024-02-04 13:34:23,809:INFO - HTTP Request: POST https://qublpyarwoevdeqqicbz.supabase.co/rest/v1/langchainjs_documents \"HTTP/1.1 201 Created\"\n",
      "2024-02-04 13:34:29,554:INFO - HTTP Request: POST https://qublpyarwoevdeqqicbz.supabase.co/rest/v1/langchainjs_documents \"HTTP/1.1 201 Created\"\n",
      "2024-02-04 13:34:35,045:INFO - HTTP Request: POST https://qublpyarwoevdeqqicbz.supabase.co/rest/v1/langchainjs_documents \"HTTP/1.1 201 Created\"\n",
      "2024-02-04 13:34:38,671:INFO - HTTP Request: POST https://qublpyarwoevdeqqicbz.supabase.co/rest/v1/langchainjs_documents \"HTTP/1.1 201 Created\"\n",
      "2024-02-04 13:34:44,084:INFO - HTTP Request: POST https://qublpyarwoevdeqqicbz.supabase.co/rest/v1/langchainjs_documents \"HTTP/1.1 201 Created\"\n",
      "2024-02-04 13:34:47,751:INFO - HTTP Request: POST https://qublpyarwoevdeqqicbz.supabase.co/rest/v1/langchainjs_documents \"HTTP/1.1 201 Created\"\n",
      "2024-02-04 13:34:51,336:INFO - HTTP Request: POST https://qublpyarwoevdeqqicbz.supabase.co/rest/v1/langchainjs_documents \"HTTP/1.1 201 Created\"\n",
      "2024-02-04 13:34:56,578:INFO - HTTP Request: POST https://qublpyarwoevdeqqicbz.supabase.co/rest/v1/langchainjs_documents \"HTTP/1.1 201 Created\"\n",
      "2024-02-04 13:35:00,166:INFO - HTTP Request: POST https://qublpyarwoevdeqqicbz.supabase.co/rest/v1/langchainjs_documents \"HTTP/1.1 201 Created\"\n",
      "2024-02-04 13:35:05,588:INFO - HTTP Request: POST https://qublpyarwoevdeqqicbz.supabase.co/rest/v1/langchainjs_documents \"HTTP/1.1 201 Created\"\n",
      "2024-02-04 13:35:11,025:INFO - HTTP Request: POST https://qublpyarwoevdeqqicbz.supabase.co/rest/v1/langchainjs_documents \"HTTP/1.1 201 Created\"\n",
      "2024-02-04 13:35:16,238:INFO - HTTP Request: POST https://qublpyarwoevdeqqicbz.supabase.co/rest/v1/langchainjs_documents \"HTTP/1.1 201 Created\"\n",
      "2024-02-04 13:35:21,564:INFO - HTTP Request: POST https://qublpyarwoevdeqqicbz.supabase.co/rest/v1/langchainjs_documents \"HTTP/1.1 201 Created\"\n",
      "2024-02-04 13:35:25,462:INFO - HTTP Request: POST https://qublpyarwoevdeqqicbz.supabase.co/rest/v1/langchainjs_documents \"HTTP/1.1 201 Created\"\n",
      "2024-02-04 13:35:29,240:INFO - HTTP Request: POST https://qublpyarwoevdeqqicbz.supabase.co/rest/v1/langchainjs_documents \"HTTP/1.1 201 Created\"\n",
      "2024-02-04 13:35:32,801:INFO - HTTP Request: POST https://qublpyarwoevdeqqicbz.supabase.co/rest/v1/langchainjs_documents \"HTTP/1.1 201 Created\"\n",
      "2024-02-04 13:35:36,446:INFO - HTTP Request: POST https://qublpyarwoevdeqqicbz.supabase.co/rest/v1/langchainjs_documents \"HTTP/1.1 201 Created\"\n",
      "2024-02-04 13:35:41,632:INFO - HTTP Request: POST https://qublpyarwoevdeqqicbz.supabase.co/rest/v1/langchainjs_documents \"HTTP/1.1 201 Created\"\n",
      "2024-02-04 13:35:45,209:INFO - HTTP Request: POST https://qublpyarwoevdeqqicbz.supabase.co/rest/v1/langchainjs_documents \"HTTP/1.1 201 Created\"\n",
      "2024-02-04 13:35:50,428:INFO - HTTP Request: POST https://qublpyarwoevdeqqicbz.supabase.co/rest/v1/langchainjs_documents \"HTTP/1.1 201 Created\"\n",
      "2024-02-04 13:35:55,604:INFO - HTTP Request: POST https://qublpyarwoevdeqqicbz.supabase.co/rest/v1/langchainjs_documents \"HTTP/1.1 201 Created\"\n",
      "2024-02-04 13:36:01,192:INFO - HTTP Request: POST https://qublpyarwoevdeqqicbz.supabase.co/rest/v1/langchainjs_documents \"HTTP/1.1 201 Created\"\n",
      "2024-02-04 13:36:04,567:INFO - HTTP Request: POST https://qublpyarwoevdeqqicbz.supabase.co/rest/v1/langchainjs_documents \"HTTP/1.1 201 Created\"\n",
      "2024-02-04 13:36:08,566:INFO - HTTP Request: POST https://qublpyarwoevdeqqicbz.supabase.co/rest/v1/langchainjs_documents \"HTTP/1.1 201 Created\"\n",
      "2024-02-04 13:36:12,149:INFO - HTTP Request: POST https://qublpyarwoevdeqqicbz.supabase.co/rest/v1/langchainjs_documents \"HTTP/1.1 201 Created\"\n",
      "2024-02-04 13:36:17,374:INFO - HTTP Request: POST https://qublpyarwoevdeqqicbz.supabase.co/rest/v1/langchainjs_documents \"HTTP/1.1 201 Created\"\n",
      "2024-02-04 13:36:22,492:INFO - HTTP Request: POST https://qublpyarwoevdeqqicbz.supabase.co/rest/v1/langchainjs_documents \"HTTP/1.1 201 Created\"\n",
      "2024-02-04 13:36:27,612:INFO - HTTP Request: POST https://qublpyarwoevdeqqicbz.supabase.co/rest/v1/langchainjs_documents \"HTTP/1.1 201 Created\"\n",
      "2024-02-04 13:36:31,414:INFO - HTTP Request: POST https://qublpyarwoevdeqqicbz.supabase.co/rest/v1/langchainjs_documents \"HTTP/1.1 201 Created\"\n",
      "2024-02-04 13:36:38,901:INFO - HTTP Request: POST https://qublpyarwoevdeqqicbz.supabase.co/rest/v1/langchainjs_documents \"HTTP/1.1 201 Created\"\n",
      "2024-02-04 13:36:44,191:INFO - HTTP Request: POST https://qublpyarwoevdeqqicbz.supabase.co/rest/v1/langchainjs_documents \"HTTP/1.1 201 Created\"\n",
      "2024-02-04 13:36:49,422:INFO - HTTP Request: POST https://qublpyarwoevdeqqicbz.supabase.co/rest/v1/langchainjs_documents \"HTTP/1.1 201 Created\"\n",
      "2024-02-04 13:36:54,652:INFO - HTTP Request: POST https://qublpyarwoevdeqqicbz.supabase.co/rest/v1/langchainjs_documents \"HTTP/1.1 201 Created\"\n",
      "2024-02-04 13:36:58,135:INFO - HTTP Request: POST https://qublpyarwoevdeqqicbz.supabase.co/rest/v1/langchainjs_documents \"HTTP/1.1 201 Created\"\n",
      "2024-02-04 13:37:01,915:INFO - HTTP Request: POST https://qublpyarwoevdeqqicbz.supabase.co/rest/v1/langchainjs_documents \"HTTP/1.1 201 Created\"\n",
      "2024-02-04 13:37:05,806:INFO - HTTP Request: POST https://qublpyarwoevdeqqicbz.supabase.co/rest/v1/langchainjs_documents \"HTTP/1.1 201 Created\"\n",
      "2024-02-04 13:37:10,926:INFO - HTTP Request: POST https://qublpyarwoevdeqqicbz.supabase.co/rest/v1/langchainjs_documents \"HTTP/1.1 201 Created\"\n",
      "2024-02-04 13:37:16,104:INFO - HTTP Request: POST https://qublpyarwoevdeqqicbz.supabase.co/rest/v1/langchainjs_documents \"HTTP/1.1 201 Created\"\n",
      "2024-02-04 13:37:19,617:INFO - HTTP Request: POST https://qublpyarwoevdeqqicbz.supabase.co/rest/v1/langchainjs_documents \"HTTP/1.1 201 Created\"\n",
      "2024-02-04 13:37:23,213:INFO - HTTP Request: POST https://qublpyarwoevdeqqicbz.supabase.co/rest/v1/langchainjs_documents \"HTTP/1.1 201 Created\"\n",
      "2024-02-04 13:37:26,867:INFO - HTTP Request: POST https://qublpyarwoevdeqqicbz.supabase.co/rest/v1/langchainjs_documents \"HTTP/1.1 201 Created\"\n",
      "2024-02-04 13:37:31,321:INFO - HTTP Request: POST https://qublpyarwoevdeqqicbz.supabase.co/rest/v1/langchainjs_documents \"HTTP/1.1 201 Created\"\n"
     ]
    }
   ],
   "source": [
    "vector_store = SupabaseVectorStore.from_documents(\n",
    "    documents=docs[1000:],\n",
    "    embedding=embeddings,\n",
    "    client=supabase,\n",
    "    table_name=\"langchainjs_documents\",\n",
    "    query_name=\"langchainjs_match_documents\",\n",
    "    chunk_size=100\n",
    ")"
   ]
  },
  {
   "cell_type": "code",
   "execution_count": 26,
   "metadata": {},
   "outputs": [],
   "source": [
    "from langchain.chat_models import ChatOpenAI\n",
    "from langchain.chains import ConversationalRetrievalChain\n",
    "from langchain.retrievers import RePhraseQueryRetriever\n",
    "from langchain.memory import ConversationBufferMemory\n",
    "from langchain.chains import create_citation_fuzzy_match_chain\n",
    "\n",
    "\n",
    "memory = ConversationBufferMemory(memory_key=\"chat_history\", return_messages=True)\n",
    "\n",
    "DEFAULT_TEMPLATE = \"\"\"You are an assistant tasked with taking a natural language \\\n",
    "query from a user and converting it into a query for a vectorstore. \\\n",
    "In this process, you strip out information that is not relevant for \\\n",
    "the retrieval task. Here is the user query: {question}\"\"\"\n",
    "\n",
    "llm = ChatOpenAI(temperature=0)\n",
    "retriever_from_llm = RePhraseQueryRetriever.from_llm(\n",
    "    retriever=vector_store.as_retriever(), llm=llm\n",
    ")\n",
    "# docs = retriever_from_llm.get_relevant_documents(\"How do I load documents from Hacker News?\")\n",
    "\n",
    "# qa = ConversationalRetrievalChain.from_llm(OpenAI(temperature=0), vectorstore.as_retriever(), memory=memory)\n",
    "\n",
    "# chain = create_citation_fuzzy_match_chain(llm)\n",
    "\n",
    "qa = ConversationalRetrievalChain.from_llm(llm=llm, retriever=retriever_from_llm, memory=memory)\n"
   ]
  },
  {
   "cell_type": "code",
   "execution_count": 27,
   "metadata": {},
   "outputs": [
    {
     "name": "stderr",
     "output_type": "stream",
     "text": [
      "2024-02-04 13:38:07,398:INFO - Re-phrased question: To convert the user query into a query for a vectorstore, you can strip out the irrelevant information and focus on the essential elements. The modified query would be:\n",
      "\n",
      "\"Retrieval chain cite sources\"\n",
      "\n",
      "This query captures the user's intention of wanting to know how to make a retrieval chain cite its sources.\n",
      "2024-02-04 13:38:09,193:INFO - HTTP Request: POST https://qublpyarwoevdeqqicbz.supabase.co/rest/v1/rpc/langchainjs_match_documents?limit=4 \"HTTP/1.1 404 Not Found\"\n"
     ]
    },
    {
     "ename": "APIError",
     "evalue": "{'code': 'PGRST202', 'details': 'Searched for the function public.langchainjs_match_documents with parameter query_embedding or with a single unnamed json/jsonb parameter, but no matches were found in the schema cache.', 'hint': 'Perhaps you meant to call the function public.match_langchainjs_documents', 'message': 'Could not find the function public.langchainjs_match_documents(query_embedding) in the schema cache'}",
     "output_type": "error",
     "traceback": [
      "\u001b[0;31m---------------------------------------------------------------------------\u001b[0m",
      "\u001b[0;31mAPIError\u001b[0m                                  Traceback (most recent call last)",
      "Cell \u001b[0;32mIn[27], line 1\u001b[0m\n\u001b[0;32m----> 1\u001b[0m \u001b[43mqa\u001b[49m\u001b[43m(\u001b[49m\u001b[43m{\u001b[49m\u001b[43m \u001b[49m\u001b[38;5;124;43m\"\u001b[39;49m\u001b[38;5;124;43mquestion\u001b[39;49m\u001b[38;5;124;43m\"\u001b[39;49m\u001b[43m:\u001b[49m\u001b[43m \u001b[49m\u001b[38;5;124;43m\"\u001b[39;49m\u001b[38;5;124;43mHow do I get a Retrieval chain to cite its sources?\u001b[39;49m\u001b[38;5;124;43m\"\u001b[39;49m\u001b[43m}\u001b[49m\u001b[43m)\u001b[49m\n",
      "File \u001b[0;32m~/Developer/WhatsUpDoc/rag-notebooks/venv/lib/python3.11/site-packages/langchain/chains/base.py:310\u001b[0m, in \u001b[0;36mChain.__call__\u001b[0;34m(self, inputs, return_only_outputs, callbacks, tags, metadata, run_name, include_run_info)\u001b[0m\n\u001b[1;32m    308\u001b[0m \u001b[38;5;28;01mexcept\u001b[39;00m \u001b[38;5;167;01mBaseException\u001b[39;00m \u001b[38;5;28;01mas\u001b[39;00m e:\n\u001b[1;32m    309\u001b[0m     run_manager\u001b[38;5;241m.\u001b[39mon_chain_error(e)\n\u001b[0;32m--> 310\u001b[0m     \u001b[38;5;28;01mraise\u001b[39;00m e\n\u001b[1;32m    311\u001b[0m run_manager\u001b[38;5;241m.\u001b[39mon_chain_end(outputs)\n\u001b[1;32m    312\u001b[0m final_outputs: Dict[\u001b[38;5;28mstr\u001b[39m, Any] \u001b[38;5;241m=\u001b[39m \u001b[38;5;28mself\u001b[39m\u001b[38;5;241m.\u001b[39mprep_outputs(\n\u001b[1;32m    313\u001b[0m     inputs, outputs, return_only_outputs\n\u001b[1;32m    314\u001b[0m )\n",
      "File \u001b[0;32m~/Developer/WhatsUpDoc/rag-notebooks/venv/lib/python3.11/site-packages/langchain/chains/base.py:304\u001b[0m, in \u001b[0;36mChain.__call__\u001b[0;34m(self, inputs, return_only_outputs, callbacks, tags, metadata, run_name, include_run_info)\u001b[0m\n\u001b[1;32m    297\u001b[0m run_manager \u001b[38;5;241m=\u001b[39m callback_manager\u001b[38;5;241m.\u001b[39mon_chain_start(\n\u001b[1;32m    298\u001b[0m     dumpd(\u001b[38;5;28mself\u001b[39m),\n\u001b[1;32m    299\u001b[0m     inputs,\n\u001b[1;32m    300\u001b[0m     name\u001b[38;5;241m=\u001b[39mrun_name,\n\u001b[1;32m    301\u001b[0m )\n\u001b[1;32m    302\u001b[0m \u001b[38;5;28;01mtry\u001b[39;00m:\n\u001b[1;32m    303\u001b[0m     outputs \u001b[38;5;241m=\u001b[39m (\n\u001b[0;32m--> 304\u001b[0m         \u001b[38;5;28;43mself\u001b[39;49m\u001b[38;5;241;43m.\u001b[39;49m\u001b[43m_call\u001b[49m\u001b[43m(\u001b[49m\u001b[43minputs\u001b[49m\u001b[43m,\u001b[49m\u001b[43m \u001b[49m\u001b[43mrun_manager\u001b[49m\u001b[38;5;241;43m=\u001b[39;49m\u001b[43mrun_manager\u001b[49m\u001b[43m)\u001b[49m\n\u001b[1;32m    305\u001b[0m         \u001b[38;5;28;01mif\u001b[39;00m new_arg_supported\n\u001b[1;32m    306\u001b[0m         \u001b[38;5;28;01melse\u001b[39;00m \u001b[38;5;28mself\u001b[39m\u001b[38;5;241m.\u001b[39m_call(inputs)\n\u001b[1;32m    307\u001b[0m     )\n\u001b[1;32m    308\u001b[0m \u001b[38;5;28;01mexcept\u001b[39;00m \u001b[38;5;167;01mBaseException\u001b[39;00m \u001b[38;5;28;01mas\u001b[39;00m e:\n\u001b[1;32m    309\u001b[0m     run_manager\u001b[38;5;241m.\u001b[39mon_chain_error(e)\n",
      "File \u001b[0;32m~/Developer/WhatsUpDoc/rag-notebooks/venv/lib/python3.11/site-packages/langchain/chains/conversational_retrieval/base.py:148\u001b[0m, in \u001b[0;36mBaseConversationalRetrievalChain._call\u001b[0;34m(self, inputs, run_manager)\u001b[0m\n\u001b[1;32m    144\u001b[0m accepts_run_manager \u001b[38;5;241m=\u001b[39m (\n\u001b[1;32m    145\u001b[0m     \u001b[38;5;124m\"\u001b[39m\u001b[38;5;124mrun_manager\u001b[39m\u001b[38;5;124m\"\u001b[39m \u001b[38;5;129;01min\u001b[39;00m inspect\u001b[38;5;241m.\u001b[39msignature(\u001b[38;5;28mself\u001b[39m\u001b[38;5;241m.\u001b[39m_get_docs)\u001b[38;5;241m.\u001b[39mparameters\n\u001b[1;32m    146\u001b[0m )\n\u001b[1;32m    147\u001b[0m \u001b[38;5;28;01mif\u001b[39;00m accepts_run_manager:\n\u001b[0;32m--> 148\u001b[0m     docs \u001b[38;5;241m=\u001b[39m \u001b[38;5;28;43mself\u001b[39;49m\u001b[38;5;241;43m.\u001b[39;49m\u001b[43m_get_docs\u001b[49m\u001b[43m(\u001b[49m\u001b[43mnew_question\u001b[49m\u001b[43m,\u001b[49m\u001b[43m \u001b[49m\u001b[43minputs\u001b[49m\u001b[43m,\u001b[49m\u001b[43m \u001b[49m\u001b[43mrun_manager\u001b[49m\u001b[38;5;241;43m=\u001b[39;49m\u001b[43m_run_manager\u001b[49m\u001b[43m)\u001b[49m\n\u001b[1;32m    149\u001b[0m \u001b[38;5;28;01melse\u001b[39;00m:\n\u001b[1;32m    150\u001b[0m     docs \u001b[38;5;241m=\u001b[39m \u001b[38;5;28mself\u001b[39m\u001b[38;5;241m.\u001b[39m_get_docs(new_question, inputs)  \u001b[38;5;66;03m# type: ignore[call-arg]\u001b[39;00m\n",
      "File \u001b[0;32m~/Developer/WhatsUpDoc/rag-notebooks/venv/lib/python3.11/site-packages/langchain/chains/conversational_retrieval/base.py:305\u001b[0m, in \u001b[0;36mConversationalRetrievalChain._get_docs\u001b[0;34m(self, question, inputs, run_manager)\u001b[0m\n\u001b[1;32m    297\u001b[0m \u001b[38;5;28;01mdef\u001b[39;00m \u001b[38;5;21m_get_docs\u001b[39m(\n\u001b[1;32m    298\u001b[0m     \u001b[38;5;28mself\u001b[39m,\n\u001b[1;32m    299\u001b[0m     question: \u001b[38;5;28mstr\u001b[39m,\n\u001b[0;32m   (...)\u001b[0m\n\u001b[1;32m    302\u001b[0m     run_manager: CallbackManagerForChainRun,\n\u001b[1;32m    303\u001b[0m ) \u001b[38;5;241m-\u001b[39m\u001b[38;5;241m>\u001b[39m List[Document]:\n\u001b[1;32m    304\u001b[0m \u001b[38;5;250m    \u001b[39m\u001b[38;5;124;03m\"\"\"Get docs.\"\"\"\u001b[39;00m\n\u001b[0;32m--> 305\u001b[0m     docs \u001b[38;5;241m=\u001b[39m \u001b[38;5;28;43mself\u001b[39;49m\u001b[38;5;241;43m.\u001b[39;49m\u001b[43mretriever\u001b[49m\u001b[38;5;241;43m.\u001b[39;49m\u001b[43mget_relevant_documents\u001b[49m\u001b[43m(\u001b[49m\n\u001b[1;32m    306\u001b[0m \u001b[43m        \u001b[49m\u001b[43mquestion\u001b[49m\u001b[43m,\u001b[49m\u001b[43m \u001b[49m\u001b[43mcallbacks\u001b[49m\u001b[38;5;241;43m=\u001b[39;49m\u001b[43mrun_manager\u001b[49m\u001b[38;5;241;43m.\u001b[39;49m\u001b[43mget_child\u001b[49m\u001b[43m(\u001b[49m\u001b[43m)\u001b[49m\n\u001b[1;32m    307\u001b[0m \u001b[43m    \u001b[49m\u001b[43m)\u001b[49m\n\u001b[1;32m    308\u001b[0m     \u001b[38;5;28;01mreturn\u001b[39;00m \u001b[38;5;28mself\u001b[39m\u001b[38;5;241m.\u001b[39m_reduce_tokens_below_limit(docs)\n",
      "File \u001b[0;32m~/Developer/WhatsUpDoc/rag-notebooks/venv/lib/python3.11/site-packages/langchain/schema/retriever.py:211\u001b[0m, in \u001b[0;36mBaseRetriever.get_relevant_documents\u001b[0;34m(self, query, callbacks, tags, metadata, run_name, **kwargs)\u001b[0m\n\u001b[1;32m    209\u001b[0m \u001b[38;5;28;01mexcept\u001b[39;00m \u001b[38;5;167;01mException\u001b[39;00m \u001b[38;5;28;01mas\u001b[39;00m e:\n\u001b[1;32m    210\u001b[0m     run_manager\u001b[38;5;241m.\u001b[39mon_retriever_error(e)\n\u001b[0;32m--> 211\u001b[0m     \u001b[38;5;28;01mraise\u001b[39;00m e\n\u001b[1;32m    212\u001b[0m \u001b[38;5;28;01melse\u001b[39;00m:\n\u001b[1;32m    213\u001b[0m     run_manager\u001b[38;5;241m.\u001b[39mon_retriever_end(\n\u001b[1;32m    214\u001b[0m         result,\n\u001b[1;32m    215\u001b[0m         \u001b[38;5;241m*\u001b[39m\u001b[38;5;241m*\u001b[39mkwargs,\n\u001b[1;32m    216\u001b[0m     )\n",
      "File \u001b[0;32m~/Developer/WhatsUpDoc/rag-notebooks/venv/lib/python3.11/site-packages/langchain/schema/retriever.py:204\u001b[0m, in \u001b[0;36mBaseRetriever.get_relevant_documents\u001b[0;34m(self, query, callbacks, tags, metadata, run_name, **kwargs)\u001b[0m\n\u001b[1;32m    202\u001b[0m _kwargs \u001b[38;5;241m=\u001b[39m kwargs \u001b[38;5;28;01mif\u001b[39;00m \u001b[38;5;28mself\u001b[39m\u001b[38;5;241m.\u001b[39m_expects_other_args \u001b[38;5;28;01melse\u001b[39;00m {}\n\u001b[1;32m    203\u001b[0m \u001b[38;5;28;01mif\u001b[39;00m \u001b[38;5;28mself\u001b[39m\u001b[38;5;241m.\u001b[39m_new_arg_supported:\n\u001b[0;32m--> 204\u001b[0m     result \u001b[38;5;241m=\u001b[39m \u001b[38;5;28;43mself\u001b[39;49m\u001b[38;5;241;43m.\u001b[39;49m\u001b[43m_get_relevant_documents\u001b[49m\u001b[43m(\u001b[49m\n\u001b[1;32m    205\u001b[0m \u001b[43m        \u001b[49m\u001b[43mquery\u001b[49m\u001b[43m,\u001b[49m\u001b[43m \u001b[49m\u001b[43mrun_manager\u001b[49m\u001b[38;5;241;43m=\u001b[39;49m\u001b[43mrun_manager\u001b[49m\u001b[43m,\u001b[49m\u001b[43m \u001b[49m\u001b[38;5;241;43m*\u001b[39;49m\u001b[38;5;241;43m*\u001b[39;49m\u001b[43m_kwargs\u001b[49m\n\u001b[1;32m    206\u001b[0m \u001b[43m    \u001b[49m\u001b[43m)\u001b[49m\n\u001b[1;32m    207\u001b[0m \u001b[38;5;28;01melse\u001b[39;00m:\n\u001b[1;32m    208\u001b[0m     result \u001b[38;5;241m=\u001b[39m \u001b[38;5;28mself\u001b[39m\u001b[38;5;241m.\u001b[39m_get_relevant_documents(query, \u001b[38;5;241m*\u001b[39m\u001b[38;5;241m*\u001b[39m_kwargs)\n",
      "File \u001b[0;32m~/Developer/WhatsUpDoc/rag-notebooks/venv/lib/python3.11/site-packages/langchain/retrievers/re_phraser.py:75\u001b[0m, in \u001b[0;36mRePhraseQueryRetriever._get_relevant_documents\u001b[0;34m(self, query, run_manager)\u001b[0m\n\u001b[1;32m     73\u001b[0m re_phrased_question \u001b[38;5;241m=\u001b[39m response[\u001b[38;5;124m\"\u001b[39m\u001b[38;5;124mtext\u001b[39m\u001b[38;5;124m\"\u001b[39m]\n\u001b[1;32m     74\u001b[0m logger\u001b[38;5;241m.\u001b[39minfo(\u001b[38;5;124mf\u001b[39m\u001b[38;5;124m\"\u001b[39m\u001b[38;5;124mRe-phrased question: \u001b[39m\u001b[38;5;132;01m{\u001b[39;00mre_phrased_question\u001b[38;5;132;01m}\u001b[39;00m\u001b[38;5;124m\"\u001b[39m)\n\u001b[0;32m---> 75\u001b[0m docs \u001b[38;5;241m=\u001b[39m \u001b[38;5;28;43mself\u001b[39;49m\u001b[38;5;241;43m.\u001b[39;49m\u001b[43mretriever\u001b[49m\u001b[38;5;241;43m.\u001b[39;49m\u001b[43mget_relevant_documents\u001b[49m\u001b[43m(\u001b[49m\n\u001b[1;32m     76\u001b[0m \u001b[43m    \u001b[49m\u001b[43mre_phrased_question\u001b[49m\u001b[43m,\u001b[49m\u001b[43m \u001b[49m\u001b[43mcallbacks\u001b[49m\u001b[38;5;241;43m=\u001b[39;49m\u001b[43mrun_manager\u001b[49m\u001b[38;5;241;43m.\u001b[39;49m\u001b[43mget_child\u001b[49m\u001b[43m(\u001b[49m\u001b[43m)\u001b[49m\n\u001b[1;32m     77\u001b[0m \u001b[43m\u001b[49m\u001b[43m)\u001b[49m\n\u001b[1;32m     78\u001b[0m \u001b[38;5;28;01mreturn\u001b[39;00m docs\n",
      "File \u001b[0;32m~/Developer/WhatsUpDoc/rag-notebooks/venv/lib/python3.11/site-packages/langchain/schema/retriever.py:211\u001b[0m, in \u001b[0;36mBaseRetriever.get_relevant_documents\u001b[0;34m(self, query, callbacks, tags, metadata, run_name, **kwargs)\u001b[0m\n\u001b[1;32m    209\u001b[0m \u001b[38;5;28;01mexcept\u001b[39;00m \u001b[38;5;167;01mException\u001b[39;00m \u001b[38;5;28;01mas\u001b[39;00m e:\n\u001b[1;32m    210\u001b[0m     run_manager\u001b[38;5;241m.\u001b[39mon_retriever_error(e)\n\u001b[0;32m--> 211\u001b[0m     \u001b[38;5;28;01mraise\u001b[39;00m e\n\u001b[1;32m    212\u001b[0m \u001b[38;5;28;01melse\u001b[39;00m:\n\u001b[1;32m    213\u001b[0m     run_manager\u001b[38;5;241m.\u001b[39mon_retriever_end(\n\u001b[1;32m    214\u001b[0m         result,\n\u001b[1;32m    215\u001b[0m         \u001b[38;5;241m*\u001b[39m\u001b[38;5;241m*\u001b[39mkwargs,\n\u001b[1;32m    216\u001b[0m     )\n",
      "File \u001b[0;32m~/Developer/WhatsUpDoc/rag-notebooks/venv/lib/python3.11/site-packages/langchain/schema/retriever.py:204\u001b[0m, in \u001b[0;36mBaseRetriever.get_relevant_documents\u001b[0;34m(self, query, callbacks, tags, metadata, run_name, **kwargs)\u001b[0m\n\u001b[1;32m    202\u001b[0m _kwargs \u001b[38;5;241m=\u001b[39m kwargs \u001b[38;5;28;01mif\u001b[39;00m \u001b[38;5;28mself\u001b[39m\u001b[38;5;241m.\u001b[39m_expects_other_args \u001b[38;5;28;01melse\u001b[39;00m {}\n\u001b[1;32m    203\u001b[0m \u001b[38;5;28;01mif\u001b[39;00m \u001b[38;5;28mself\u001b[39m\u001b[38;5;241m.\u001b[39m_new_arg_supported:\n\u001b[0;32m--> 204\u001b[0m     result \u001b[38;5;241m=\u001b[39m \u001b[38;5;28;43mself\u001b[39;49m\u001b[38;5;241;43m.\u001b[39;49m\u001b[43m_get_relevant_documents\u001b[49m\u001b[43m(\u001b[49m\n\u001b[1;32m    205\u001b[0m \u001b[43m        \u001b[49m\u001b[43mquery\u001b[49m\u001b[43m,\u001b[49m\u001b[43m \u001b[49m\u001b[43mrun_manager\u001b[49m\u001b[38;5;241;43m=\u001b[39;49m\u001b[43mrun_manager\u001b[49m\u001b[43m,\u001b[49m\u001b[43m \u001b[49m\u001b[38;5;241;43m*\u001b[39;49m\u001b[38;5;241;43m*\u001b[39;49m\u001b[43m_kwargs\u001b[49m\n\u001b[1;32m    206\u001b[0m \u001b[43m    \u001b[49m\u001b[43m)\u001b[49m\n\u001b[1;32m    207\u001b[0m \u001b[38;5;28;01melse\u001b[39;00m:\n\u001b[1;32m    208\u001b[0m     result \u001b[38;5;241m=\u001b[39m \u001b[38;5;28mself\u001b[39m\u001b[38;5;241m.\u001b[39m_get_relevant_documents(query, \u001b[38;5;241m*\u001b[39m\u001b[38;5;241m*\u001b[39m_kwargs)\n",
      "File \u001b[0;32m~/Developer/WhatsUpDoc/rag-notebooks/venv/lib/python3.11/site-packages/langchain/schema/vectorstore.py:657\u001b[0m, in \u001b[0;36mVectorStoreRetriever._get_relevant_documents\u001b[0;34m(self, query, run_manager)\u001b[0m\n\u001b[1;32m    653\u001b[0m \u001b[38;5;28;01mdef\u001b[39;00m \u001b[38;5;21m_get_relevant_documents\u001b[39m(\n\u001b[1;32m    654\u001b[0m     \u001b[38;5;28mself\u001b[39m, query: \u001b[38;5;28mstr\u001b[39m, \u001b[38;5;241m*\u001b[39m, run_manager: CallbackManagerForRetrieverRun\n\u001b[1;32m    655\u001b[0m ) \u001b[38;5;241m-\u001b[39m\u001b[38;5;241m>\u001b[39m List[Document]:\n\u001b[1;32m    656\u001b[0m     \u001b[38;5;28;01mif\u001b[39;00m \u001b[38;5;28mself\u001b[39m\u001b[38;5;241m.\u001b[39msearch_type \u001b[38;5;241m==\u001b[39m \u001b[38;5;124m\"\u001b[39m\u001b[38;5;124msimilarity\u001b[39m\u001b[38;5;124m\"\u001b[39m:\n\u001b[0;32m--> 657\u001b[0m         docs \u001b[38;5;241m=\u001b[39m \u001b[38;5;28;43mself\u001b[39;49m\u001b[38;5;241;43m.\u001b[39;49m\u001b[43mvectorstore\u001b[49m\u001b[38;5;241;43m.\u001b[39;49m\u001b[43msimilarity_search\u001b[49m\u001b[43m(\u001b[49m\u001b[43mquery\u001b[49m\u001b[43m,\u001b[49m\u001b[43m \u001b[49m\u001b[38;5;241;43m*\u001b[39;49m\u001b[38;5;241;43m*\u001b[39;49m\u001b[38;5;28;43mself\u001b[39;49m\u001b[38;5;241;43m.\u001b[39;49m\u001b[43msearch_kwargs\u001b[49m\u001b[43m)\u001b[49m\n\u001b[1;32m    658\u001b[0m     \u001b[38;5;28;01melif\u001b[39;00m \u001b[38;5;28mself\u001b[39m\u001b[38;5;241m.\u001b[39msearch_type \u001b[38;5;241m==\u001b[39m \u001b[38;5;124m\"\u001b[39m\u001b[38;5;124msimilarity_score_threshold\u001b[39m\u001b[38;5;124m\"\u001b[39m:\n\u001b[1;32m    659\u001b[0m         docs_and_similarities \u001b[38;5;241m=\u001b[39m (\n\u001b[1;32m    660\u001b[0m             \u001b[38;5;28mself\u001b[39m\u001b[38;5;241m.\u001b[39mvectorstore\u001b[38;5;241m.\u001b[39msimilarity_search_with_relevance_scores(\n\u001b[1;32m    661\u001b[0m                 query, \u001b[38;5;241m*\u001b[39m\u001b[38;5;241m*\u001b[39m\u001b[38;5;28mself\u001b[39m\u001b[38;5;241m.\u001b[39msearch_kwargs\n\u001b[1;32m    662\u001b[0m             )\n\u001b[1;32m    663\u001b[0m         )\n",
      "File \u001b[0;32m~/Developer/WhatsUpDoc/rag-notebooks/venv/lib/python3.11/site-packages/langchain/vectorstores/supabase.py:181\u001b[0m, in \u001b[0;36mSupabaseVectorStore.similarity_search\u001b[0;34m(self, query, k, filter, **kwargs)\u001b[0m\n\u001b[1;32m    173\u001b[0m \u001b[38;5;28;01mdef\u001b[39;00m \u001b[38;5;21msimilarity_search\u001b[39m(\n\u001b[1;32m    174\u001b[0m     \u001b[38;5;28mself\u001b[39m,\n\u001b[1;32m    175\u001b[0m     query: \u001b[38;5;28mstr\u001b[39m,\n\u001b[0;32m   (...)\u001b[0m\n\u001b[1;32m    178\u001b[0m     \u001b[38;5;241m*\u001b[39m\u001b[38;5;241m*\u001b[39mkwargs: Any,\n\u001b[1;32m    179\u001b[0m ) \u001b[38;5;241m-\u001b[39m\u001b[38;5;241m>\u001b[39m List[Document]:\n\u001b[1;32m    180\u001b[0m     vector \u001b[38;5;241m=\u001b[39m \u001b[38;5;28mself\u001b[39m\u001b[38;5;241m.\u001b[39m_embedding\u001b[38;5;241m.\u001b[39membed_query(query)\n\u001b[0;32m--> 181\u001b[0m     \u001b[38;5;28;01mreturn\u001b[39;00m \u001b[38;5;28;43mself\u001b[39;49m\u001b[38;5;241;43m.\u001b[39;49m\u001b[43msimilarity_search_by_vector\u001b[49m\u001b[43m(\u001b[49m\u001b[43mvector\u001b[49m\u001b[43m,\u001b[49m\u001b[43m \u001b[49m\u001b[43mk\u001b[49m\u001b[38;5;241;43m=\u001b[39;49m\u001b[43mk\u001b[49m\u001b[43m,\u001b[49m\u001b[43m \u001b[49m\u001b[38;5;28;43mfilter\u001b[39;49m\u001b[38;5;241;43m=\u001b[39;49m\u001b[38;5;28;43mfilter\u001b[39;49m\u001b[43m,\u001b[49m\u001b[43m \u001b[49m\u001b[38;5;241;43m*\u001b[39;49m\u001b[38;5;241;43m*\u001b[39;49m\u001b[43mkwargs\u001b[49m\u001b[43m)\u001b[49m\n",
      "File \u001b[0;32m~/Developer/WhatsUpDoc/rag-notebooks/venv/lib/python3.11/site-packages/langchain/vectorstores/supabase.py:190\u001b[0m, in \u001b[0;36mSupabaseVectorStore.similarity_search_by_vector\u001b[0;34m(self, embedding, k, filter, **kwargs)\u001b[0m\n\u001b[1;32m    183\u001b[0m \u001b[38;5;28;01mdef\u001b[39;00m \u001b[38;5;21msimilarity_search_by_vector\u001b[39m(\n\u001b[1;32m    184\u001b[0m     \u001b[38;5;28mself\u001b[39m,\n\u001b[1;32m    185\u001b[0m     embedding: List[\u001b[38;5;28mfloat\u001b[39m],\n\u001b[0;32m   (...)\u001b[0m\n\u001b[1;32m    188\u001b[0m     \u001b[38;5;241m*\u001b[39m\u001b[38;5;241m*\u001b[39mkwargs: Any,\n\u001b[1;32m    189\u001b[0m ) \u001b[38;5;241m-\u001b[39m\u001b[38;5;241m>\u001b[39m List[Document]:\n\u001b[0;32m--> 190\u001b[0m     result \u001b[38;5;241m=\u001b[39m \u001b[38;5;28;43mself\u001b[39;49m\u001b[38;5;241;43m.\u001b[39;49m\u001b[43msimilarity_search_by_vector_with_relevance_scores\u001b[49m\u001b[43m(\u001b[49m\n\u001b[1;32m    191\u001b[0m \u001b[43m        \u001b[49m\u001b[43membedding\u001b[49m\u001b[43m,\u001b[49m\u001b[43m \u001b[49m\u001b[43mk\u001b[49m\u001b[38;5;241;43m=\u001b[39;49m\u001b[43mk\u001b[49m\u001b[43m,\u001b[49m\u001b[43m \u001b[49m\u001b[38;5;28;43mfilter\u001b[39;49m\u001b[38;5;241;43m=\u001b[39;49m\u001b[38;5;28;43mfilter\u001b[39;49m\u001b[43m,\u001b[49m\u001b[43m \u001b[49m\u001b[38;5;241;43m*\u001b[39;49m\u001b[38;5;241;43m*\u001b[39;49m\u001b[43mkwargs\u001b[49m\n\u001b[1;32m    192\u001b[0m \u001b[43m    \u001b[49m\u001b[43m)\u001b[49m\n\u001b[1;32m    194\u001b[0m     documents \u001b[38;5;241m=\u001b[39m [doc \u001b[38;5;28;01mfor\u001b[39;00m doc, _ \u001b[38;5;129;01min\u001b[39;00m result]\n\u001b[1;32m    196\u001b[0m     \u001b[38;5;28;01mreturn\u001b[39;00m documents\n",
      "File \u001b[0;32m~/Developer/WhatsUpDoc/rag-notebooks/venv/lib/python3.11/site-packages/langchain/vectorstores/supabase.py:235\u001b[0m, in \u001b[0;36mSupabaseVectorStore.similarity_search_by_vector_with_relevance_scores\u001b[0;34m(self, query, k, filter, postgrest_filter)\u001b[0m\n\u001b[1;32m    229\u001b[0m     query_builder\u001b[38;5;241m.\u001b[39mparams \u001b[38;5;241m=\u001b[39m query_builder\u001b[38;5;241m.\u001b[39mparams\u001b[38;5;241m.\u001b[39mset(\n\u001b[1;32m    230\u001b[0m         \u001b[38;5;124m\"\u001b[39m\u001b[38;5;124mand\u001b[39m\u001b[38;5;124m\"\u001b[39m, \u001b[38;5;124mf\u001b[39m\u001b[38;5;124m\"\u001b[39m\u001b[38;5;124m(\u001b[39m\u001b[38;5;132;01m{\u001b[39;00mpostgrest_filter\u001b[38;5;132;01m}\u001b[39;00m\u001b[38;5;124m)\u001b[39m\u001b[38;5;124m\"\u001b[39m\n\u001b[1;32m    231\u001b[0m     )\n\u001b[1;32m    233\u001b[0m query_builder\u001b[38;5;241m.\u001b[39mparams \u001b[38;5;241m=\u001b[39m query_builder\u001b[38;5;241m.\u001b[39mparams\u001b[38;5;241m.\u001b[39mset(\u001b[38;5;124m\"\u001b[39m\u001b[38;5;124mlimit\u001b[39m\u001b[38;5;124m\"\u001b[39m, k)\n\u001b[0;32m--> 235\u001b[0m res \u001b[38;5;241m=\u001b[39m \u001b[43mquery_builder\u001b[49m\u001b[38;5;241;43m.\u001b[39;49m\u001b[43mexecute\u001b[49m\u001b[43m(\u001b[49m\u001b[43m)\u001b[49m\n\u001b[1;32m    237\u001b[0m match_result \u001b[38;5;241m=\u001b[39m [\n\u001b[1;32m    238\u001b[0m     (\n\u001b[1;32m    239\u001b[0m         Document(\n\u001b[0;32m   (...)\u001b[0m\n\u001b[1;32m    246\u001b[0m     \u001b[38;5;28;01mif\u001b[39;00m search\u001b[38;5;241m.\u001b[39mget(\u001b[38;5;124m\"\u001b[39m\u001b[38;5;124mcontent\u001b[39m\u001b[38;5;124m\"\u001b[39m)\n\u001b[1;32m    247\u001b[0m ]\n\u001b[1;32m    249\u001b[0m \u001b[38;5;28;01mreturn\u001b[39;00m match_result\n",
      "File \u001b[0;32m~/Developer/WhatsUpDoc/rag-notebooks/venv/lib/python3.11/site-packages/postgrest/_sync/request_builder.py:119\u001b[0m, in \u001b[0;36mSyncSingleRequestBuilder.execute\u001b[0;34m(self)\u001b[0m\n\u001b[1;32m    117\u001b[0m         \u001b[38;5;28;01mreturn\u001b[39;00m SingleAPIResponse[_ReturnT]\u001b[38;5;241m.\u001b[39mfrom_http_request_response(r)\n\u001b[1;32m    118\u001b[0m     \u001b[38;5;28;01melse\u001b[39;00m:\n\u001b[0;32m--> 119\u001b[0m         \u001b[38;5;28;01mraise\u001b[39;00m APIError(r\u001b[38;5;241m.\u001b[39mjson())\n\u001b[1;32m    120\u001b[0m \u001b[38;5;28;01mexcept\u001b[39;00m ValidationError \u001b[38;5;28;01mas\u001b[39;00m e:\n\u001b[1;32m    121\u001b[0m     \u001b[38;5;28;01mraise\u001b[39;00m APIError(r\u001b[38;5;241m.\u001b[39mjson()) \u001b[38;5;28;01mfrom\u001b[39;00m \u001b[38;5;21;01me\u001b[39;00m\n",
      "\u001b[0;31mAPIError\u001b[0m: {'code': 'PGRST202', 'details': 'Searched for the function public.langchainjs_match_documents with parameter query_embedding or with a single unnamed json/jsonb parameter, but no matches were found in the schema cache.', 'hint': 'Perhaps you meant to call the function public.match_langchainjs_documents', 'message': 'Could not find the function public.langchainjs_match_documents(query_embedding) in the schema cache'}"
     ]
    }
   ],
   "source": [
    "qa({ \"question\": \"How do I get a Retrieval chain to cite its sources?\"})"
   ]
  },
  {
   "cell_type": "code",
   "execution_count": null,
   "metadata": {},
   "outputs": [],
   "source": []
  }
 ],
 "metadata": {
  "kernelspec": {
   "display_name": "venv",
   "language": "python",
   "name": "python3"
  },
  "language_info": {
   "codemirror_mode": {
    "name": "ipython",
    "version": 3
   },
   "file_extension": ".py",
   "mimetype": "text/x-python",
   "name": "python",
   "nbconvert_exporter": "python",
   "pygments_lexer": "ipython3",
   "version": "3.11.6"
  }
 },
 "nbformat": 4,
 "nbformat_minor": 2
}
