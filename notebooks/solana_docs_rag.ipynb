{
 "cells": [
  {
   "cell_type": "code",
   "execution_count": 5,
   "metadata": {},
   "outputs": [],
   "source": [
    "SITE_MAP_URL = \"https://docs.solana.com/sitemap.xml\""
   ]
  },
  {
   "cell_type": "code",
   "execution_count": 2,
   "metadata": {},
   "outputs": [
    {
     "name": "stdout",
     "output_type": "stream",
     "text": [
      "zsh:1: /Users/yjkim/Developer/WhatsUpDoc/rag-notebooks/venv/bin/pip: bad interpreter: /Users/yjkim/Developer/whatsupdocc/venv/bin/python3.11: no such file or directory\n"
     ]
    }
   ],
   "source": [
    "!pip install -Uq pip"
   ]
  },
  {
   "cell_type": "code",
   "execution_count": 3,
   "metadata": {},
   "outputs": [
    {
     "name": "stdout",
     "output_type": "stream",
     "text": [
      "zsh:1: /Users/yjkim/Developer/WhatsUpDoc/rag-notebooks/venv/bin/pip: bad interpreter: /Users/yjkim/Developer/whatsupdocc/venv/bin/python3.11: no such file or directory\n"
     ]
    }
   ],
   "source": [
    "!pip install -q -r requirements.txt"
   ]
  },
  {
   "cell_type": "code",
   "execution_count": 6,
   "metadata": {},
   "outputs": [],
   "source": [
    "from langchain.document_loaders.sitemap import SitemapLoader\n",
    "# fixes a bug with asyncio and jupyter\n",
    "import nest_asyncio\n",
    "\n",
    "nest_asyncio.apply()\n",
    "\n",
    "sitemap_loader = SitemapLoader(\n",
    "    web_path=SITE_MAP_URL,\n",
    ")\n",
    "\n",
    "sitemap_loader.requests_per_second = 2"
   ]
  },
  {
   "cell_type": "code",
   "execution_count": 7,
   "metadata": {},
   "outputs": [
    {
     "name": "stderr",
     "output_type": "stream",
     "text": [
      "Fetching pages: 100%|##########| 175/175 [01:29<00:00,  1.96it/s]\n"
     ]
    }
   ],
   "source": [
    "from langchain.text_splitter import RecursiveCharacterTextSplitter\n",
    "\n",
    "text_splitter = RecursiveCharacterTextSplitter(\n",
    "    chunk_size=500,\n",
    "    chunk_overlap=100\n",
    ")\n",
    "\n",
    "data = sitemap_loader.load_and_split(text_splitter=text_splitter)"
   ]
  },
  {
   "cell_type": "code",
   "execution_count": 8,
   "metadata": {},
   "outputs": [
    {
     "data": {
      "text/plain": [
       "Document(page_content='JSON RPC API | Solana Docs', metadata={'source': 'https://docs.solana.com/api', 'loc': 'https://docs.solana.com/api', 'changefreq': 'weekly', 'priority': '0.5'})"
      ]
     },
     "execution_count": 8,
     "metadata": {},
     "output_type": "execute_result"
    }
   ],
   "source": [
    "data[0]"
   ]
  },
  {
   "cell_type": "code",
   "execution_count": 9,
   "metadata": {},
   "outputs": [
    {
     "data": {
      "text/plain": [
       "4078"
      ]
     },
     "execution_count": 9,
     "metadata": {},
     "output_type": "execute_result"
    }
   ],
   "source": [
    "len(data)"
   ]
  },
  {
   "cell_type": "code",
   "execution_count": 10,
   "metadata": {},
   "outputs": [],
   "source": [
    "from supabase.client import Client, create_client\n",
    "from langchain.embeddings.openai import OpenAIEmbeddings\n",
    "from langchain.vectorstores.supabase import SupabaseVectorStore\n",
    "import os\n",
    "from dotenv import load_dotenv\n",
    "\n",
    "load_dotenv()\n",
    "\n",
    "supabase_url = os.environ.get(\"SUPABASE_URL\")\n",
    "supabase_key = os.environ.get(\"SUPABASE_ANON_KEY\")\n",
    "supabase: Client = create_client(supabase_url, supabase_key)\n",
    "\n",
    "embeddings = OpenAIEmbeddings(openai_api_key=os.environ.get(\"OPENAI_API_KEY\"))"
   ]
  },
  {
   "cell_type": "code",
   "execution_count": 15,
   "metadata": {},
   "outputs": [
    {
     "name": "stderr",
     "output_type": "stream",
     "text": [
      "2023-12-29 11:43:41,164:INFO - HTTP Request: POST https://qublpyarwoevdeqqicbz.supabase.co/rest/v1/solana_documents \"HTTP/1.1 201 Created\"\n",
      "2023-12-29 11:43:45,823:INFO - HTTP Request: POST https://qublpyarwoevdeqqicbz.supabase.co/rest/v1/solana_documents \"HTTP/1.1 201 Created\"\n",
      "2023-12-29 11:43:50,583:INFO - HTTP Request: POST https://qublpyarwoevdeqqicbz.supabase.co/rest/v1/solana_documents \"HTTP/1.1 201 Created\"\n",
      "2023-12-29 11:43:55,272:INFO - HTTP Request: POST https://qublpyarwoevdeqqicbz.supabase.co/rest/v1/solana_documents \"HTTP/1.1 201 Created\"\n",
      "2023-12-29 11:44:00,035:INFO - HTTP Request: POST https://qublpyarwoevdeqqicbz.supabase.co/rest/v1/solana_documents \"HTTP/1.1 201 Created\"\n",
      "2023-12-29 11:44:04,715:INFO - HTTP Request: POST https://qublpyarwoevdeqqicbz.supabase.co/rest/v1/solana_documents \"HTTP/1.1 201 Created\"\n",
      "2023-12-29 11:44:09,452:INFO - HTTP Request: POST https://qublpyarwoevdeqqicbz.supabase.co/rest/v1/solana_documents \"HTTP/1.1 201 Created\"\n",
      "2023-12-29 11:44:14,086:INFO - HTTP Request: POST https://qublpyarwoevdeqqicbz.supabase.co/rest/v1/solana_documents \"HTTP/1.1 201 Created\"\n",
      "2023-12-29 11:44:18,898:INFO - HTTP Request: POST https://qublpyarwoevdeqqicbz.supabase.co/rest/v1/solana_documents \"HTTP/1.1 201 Created\"\n",
      "2023-12-29 11:44:23,603:INFO - HTTP Request: POST https://qublpyarwoevdeqqicbz.supabase.co/rest/v1/solana_documents \"HTTP/1.1 201 Created\"\n",
      "2023-12-29 11:44:28,347:INFO - HTTP Request: POST https://qublpyarwoevdeqqicbz.supabase.co/rest/v1/solana_documents \"HTTP/1.1 201 Created\"\n",
      "2023-12-29 11:44:33,262:INFO - HTTP Request: POST https://qublpyarwoevdeqqicbz.supabase.co/rest/v1/solana_documents \"HTTP/1.1 201 Created\"\n",
      "2023-12-29 11:44:36,127:INFO - HTTP Request: POST https://qublpyarwoevdeqqicbz.supabase.co/rest/v1/solana_documents \"HTTP/1.1 201 Created\"\n",
      "2023-12-29 11:44:38,929:INFO - HTTP Request: POST https://qublpyarwoevdeqqicbz.supabase.co/rest/v1/solana_documents \"HTTP/1.1 201 Created\"\n",
      "2023-12-29 11:44:43,958:INFO - HTTP Request: POST https://qublpyarwoevdeqqicbz.supabase.co/rest/v1/solana_documents \"HTTP/1.1 201 Created\"\n",
      "2023-12-29 11:44:48,865:INFO - HTTP Request: POST https://qublpyarwoevdeqqicbz.supabase.co/rest/v1/solana_documents \"HTTP/1.1 201 Created\"\n",
      "2023-12-29 11:44:53,681:INFO - HTTP Request: POST https://qublpyarwoevdeqqicbz.supabase.co/rest/v1/solana_documents \"HTTP/1.1 201 Created\"\n",
      "2023-12-29 11:44:58,489:INFO - HTTP Request: POST https://qublpyarwoevdeqqicbz.supabase.co/rest/v1/solana_documents \"HTTP/1.1 201 Created\"\n",
      "2023-12-29 11:45:01,841:INFO - HTTP Request: POST https://qublpyarwoevdeqqicbz.supabase.co/rest/v1/solana_documents \"HTTP/1.1 201 Created\"\n",
      "2023-12-29 11:45:06,486:INFO - HTTP Request: POST https://qublpyarwoevdeqqicbz.supabase.co/rest/v1/solana_documents \"HTTP/1.1 201 Created\"\n",
      "2023-12-29 11:45:09,817:INFO - HTTP Request: POST https://qublpyarwoevdeqqicbz.supabase.co/rest/v1/solana_documents \"HTTP/1.1 201 Created\"\n",
      "2023-12-29 11:45:14,262:INFO - HTTP Request: POST https://qublpyarwoevdeqqicbz.supabase.co/rest/v1/solana_documents \"HTTP/1.1 201 Created\"\n"
     ]
    }
   ],
   "source": [
    "vector_store = SupabaseVectorStore.from_documents(\n",
    "    documents=data[3000:],\n",
    "    embedding=embeddings,\n",
    "    client=supabase,\n",
    "    table_name=\"solana_documents\",\n",
    "    query_name=\"solana_match_documents\",\n",
    "    chunk_size=50\n",
    ")"
   ]
  },
  {
   "cell_type": "code",
   "execution_count": null,
   "metadata": {},
   "outputs": [],
   "source": []
  }
 ],
 "metadata": {
  "kernelspec": {
   "display_name": "venv",
   "language": "python",
   "name": "python3"
  },
  "language_info": {
   "codemirror_mode": {
    "name": "ipython",
    "version": 3
   },
   "file_extension": ".py",
   "mimetype": "text/x-python",
   "name": "python",
   "nbconvert_exporter": "python",
   "pygments_lexer": "ipython3",
   "version": "3.11.6"
  }
 },
 "nbformat": 4,
 "nbformat_minor": 2
}
