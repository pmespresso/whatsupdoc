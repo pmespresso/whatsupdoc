{
 "cells": [
  {
   "cell_type": "code",
   "execution_count": 1,
   "metadata": {},
   "outputs": [
    {
     "name": "stdout",
     "output_type": "stream",
     "text": [
      "zsh:1: /Users/yjkim/Developer/WhatsUpDoc/rag-notebooks/venv/bin/pip: bad interpreter: /Users/yjkim/Developer/whatsupdocc/venv/bin/python3.11: no such file or directory\n",
      "Requirement already satisfied: pip in /Users/yjkim/Library/Caches/pypoetry/virtualenvs/backend-DYeq80Ud-py3.11/lib/python3.11/site-packages (23.3.1)\n",
      "Collecting pip\n",
      "  Using cached pip-24.0-py3-none-any.whl.metadata (3.6 kB)\n",
      "Using cached pip-24.0-py3-none-any.whl (2.1 MB)\n",
      "Installing collected packages: pip\n",
      "  Attempting uninstall: pip\n",
      "    Found existing installation: pip 23.3.1\n",
      "    Uninstalling pip-23.3.1:\n",
      "      Successfully uninstalled pip-23.3.1\n",
      "Successfully installed pip-24.0\n"
     ]
    }
   ],
   "source": [
    "!pip install -U pip"
   ]
  },
  {
   "cell_type": "code",
   "execution_count": 3,
   "metadata": {},
   "outputs": [
    {
     "name": "stdout",
     "output_type": "stream",
     "text": [
      "zsh:1: /Users/yjkim/Developer/WhatsUpDoc/rag-notebooks/venv/bin/pip: bad interpreter: /Users/yjkim/Developer/whatsupdocc/venv/bin/python3.11: no such file or directory\n"
     ]
    }
   ],
   "source": [
    "!pip install -Uq supabase langchain langchain-openai python-dotenv"
   ]
  },
  {
   "cell_type": "code",
   "execution_count": 22,
   "metadata": {},
   "outputs": [],
   "source": [
    "from supabase.client import Client, create_client\n",
    "from langchain.embeddings.openai import OpenAIEmbeddings\n",
    "from langchain.vectorstores.supabase import SupabaseVectorStore\n",
    "import os\n",
    "from dotenv import load_dotenv\n",
    "\n",
    "load_dotenv()\n",
    "\n",
    "supabase_url = os.environ.get(\"SUPABASE_URL\")\n",
    "supabase_key = os.environ.get(\"SUPABASE_SERVICE_KEY\")\n",
    "supabase: Client = create_client(supabase_url, supabase_key)\n",
    "\n",
    "embeddings = OpenAIEmbeddings()\n",
    "\n",
    "supabase_client = SupabaseVectorStore(\n",
    "    client=supabase,\n",
    "    embedding=embeddings,\n",
    "    table_name=f\"vscode_documents_blue\",\n",
    "    query_name=f\"match_vscode_documents_blue\",\n",
    ")\n",
    "\n",
    "retriever = supabase_client.as_retriever(search_kwargs=dict(k=6))"
   ]
  },
  {
   "cell_type": "code",
   "execution_count": 23,
   "metadata": {},
   "outputs": [
    {
     "name": "stderr",
     "output_type": "stream",
     "text": [
      "2024-02-18 17:44:13,239:INFO - HTTP Request: POST https://qublpyarwoevdeqqicbz.supabase.co/rest/v1/rpc/match_vscode_documents_blue?limit=6 \"HTTP/1.1 200 OK\"\n"
     ]
    },
    {
     "data": {
      "text/plain": [
       "[Document(page_content='heart\\n\\n\\n\\nhistory\\n\\n\\n\\nhome\\n\\n\\n\\nhorizontal-rule\\n\\n\\n\\nhubot\\n\\n\\n\\ninbox\\n\\n\\n\\nindent\\n\\n\\n\\ninfo\\n\\n\\n\\ninsert\\n\\n\\n\\ninspect\\n\\n\\n\\nissue-closed\\n\\n\\n\\nissue-draft\\n\\n\\n\\nissue-opened\\n\\n\\n\\nissue-reopened\\n\\n\\n\\nissues\\n\\n\\n\\nitalic\\n\\n\\n\\njersey\\n\\n\\n\\njson\\n\\n\\n\\nkebab-horizontal\\n\\n\\n\\nkebab-vertical\\n\\n\\n\\nkey\\n\\n\\n\\nkeyboard\\n\\n\\n\\nlaw\\n\\n\\n\\nlayers-active\\n\\n\\n\\nlayers-dot\\n\\n\\n\\nlayers\\n\\n\\n\\nlayout-activitybar-left\\n\\n\\n\\nlayout-activitybar-right\\n\\n\\n\\nlayout-centered\\n\\n\\n\\nlayout-menubar\\n\\n\\n\\nlayout-panel-center\\n\\n\\n\\nlayout-panel-justify\\n\\n\\n\\nlayout-panel-left\\n\\n\\n\\nlayout-panel-right\\n\\n\\n\\nlayou', metadata={'loc': 'https://code.visualstudio.com/api/references/icons-in-labels', 'source': 'https://code.visualstudio.com/api/references/icons-in-labels', 'priority': '0.8', 'changefreq': 'weekly'}),\n",
       " Document(page_content='3 sectionsIn this article\\n\\nChanging the look of the Markdown preview with CSS\\nAdding support for new syntax with markdown-it plugins\\nAdding advanced functionality with scripts\\n\\n\\n\\n\\n\\n\\n\\n\\n\\n\\n\\n\\n\\n\\n\\n\\n\\n\\nHello from Seattle.\\n\\n\\nFollow @code\\n\\n\\n\\n\\n\\n\\n\\n\\n\\n\\n\\nSupport\\nPrivacy\\nManage Cookies\\nTerms of Use\\nLicense\\n\\n\\n\\n\\n\\n\\n© 2024 Microsoft', metadata={'loc': 'https://code.visualstudio.com/api/extension-guides/markdown-extension', 'source': 'https://code.visualstudio.com/api/extension-guides/markdown-extension', 'priority': '0.8', 'changefreq': 'weekly'}),\n",
       " Document(page_content='evelopment\\nPackaging and publishing\\n\\n\\n\\n\\n\\n\\n\\n\\n\\n\\n\\n\\n\\n\\n\\n\\n\\n\\nHello from Seattle.\\n\\n\\nFollow @code\\n\\n\\n\\n\\n\\n\\n\\n\\n\\n\\n\\nSupport\\nPrivacy\\nManage Cookies\\nTerms of Use\\nLicense\\n\\n\\n\\n\\n\\n\\n© 2024 Microsoft', metadata={'loc': 'https://code.visualstudio.com/api/advanced-topics/python-extension-template', 'source': 'https://code.visualstudio.com/api/advanced-topics/python-extension-template', 'priority': '0.8', 'changefreq': 'weekly'}),\n",
       " Document(page_content='on easier to find in the VS Code Extension Marketplace.\\n{\\n  \"name\": \"mock-debug\",\\n  \"displayName\": \"Mock Debug\",\\n  \"version\": \"0.24.0\",\\n  \"publisher\": \"...\",\\n  \"description\": \"Starter extension for developing debug adapters for VS Code.\",\\n  \"author\": {\\n    \"name\": \"...\",\\n    \"email\": \"...\"\\n  },\\n  \"engines\": {\\n    \"vscode\": \"^1.17.0\",\\n    \"node\": \"^7.9.0\"\\n  },\\n  \"icon\": \"images/mock-debug-icon.png\",\\n  \"categories\": [\"Debuggers\"],\\n\\n  \"contributes\": {\\n    \"breakpoints\": [{ \"language\": \"markdown\" }]', metadata={'loc': 'https://code.visualstudio.com/api/extension-guides/debugger-extension', 'source': 'https://code.visualstudio.com/api/extension-guides/debugger-extension', 'priority': '0.8', 'changefreq': 'weekly'}),\n",
       " Document(page_content='eywords will help a lot.\\n    \"displayName\": \"Word Count\",\\n    \"description\": \"Markdown Word Count Example - reports out the number of words in a Markdown file.\",\\n\\nAn icon and a contrasting banner color look great on the Marketplace page header. The theme attribute refers to the font to be used in the banner - dark or light.\\n{\\n  \"icon\": \"images/icon.png\",\\n  \"galleryBanner\": {\\n    \"color\": \"#C80000\",\\n    \"theme\": \"dark\"\\n  }\\n}\\n\\nThere are several optional links (bugs, homepage, repository) you can s', metadata={'loc': 'https://code.visualstudio.com/api/references/extension-manifest', 'source': 'https://code.visualstudio.com/api/references/extension-manifest', 'priority': '0.8', 'changefreq': 'weekly'}),\n",
       " Document(page_content='CTYPE html>\\n<html lang=\"en\">\\n<head>\\n    <meta charset=\"UTF-8\">\\n    <meta name=\"viewport\" content=\"width=device-width, initial-scale=1.0\">\\n    <title>Cat Coding</title>\\n</head>\\n<body>\\n    <img src=\"https://media.giphy.com/media/JIX9t2j0ZTN9S/giphy.gif\" width=\"300\" />\\n    <h1 id=\"lines-of-code-counter\">0</h1>\\n\\n    <script>\\n        (function() {\\n            const vscode = acquireVsCodeApi();\\n            const counter = document.getElementById(\\'lines-of-code-counter\\');\\n\\n            let count = 0;', metadata={'loc': 'https://code.visualstudio.com/api/extension-guides/webview', 'source': 'https://code.visualstudio.com/api/extension-guides/webview', 'priority': '0.8', 'changefreq': 'weekly'})]"
      ]
     },
     "execution_count": 23,
     "metadata": {},
     "output_type": "execute_result"
    }
   ],
   "source": [
    "retriever.get_relevant_documents(\"markdown\")"
   ]
  },
  {
   "cell_type": "code",
   "execution_count": null,
   "metadata": {},
   "outputs": [],
   "source": []
  }
 ],
 "metadata": {
  "kernelspec": {
   "display_name": "venv",
   "language": "python",
   "name": "python3"
  },
  "language_info": {
   "codemirror_mode": {
    "name": "ipython",
    "version": 3
   },
   "file_extension": ".py",
   "mimetype": "text/x-python",
   "name": "python",
   "nbconvert_exporter": "python",
   "pygments_lexer": "ipython3",
   "version": "3.11.6"
  }
 },
 "nbformat": 4,
 "nbformat_minor": 2
}
